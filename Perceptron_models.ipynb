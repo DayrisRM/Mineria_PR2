{
  "nbformat": 4,
  "nbformat_minor": 0,
  "metadata": {
    "colab": {
      "name": "Perceptron models.ipynb",
      "provenance": [],
      "authorship_tag": "ABX9TyNMjoIikDFGgXAMEz+j3LSQ"
    },
    "kernelspec": {
      "name": "python3",
      "display_name": "Python 3"
    },
    "language_info": {
      "name": "python"
    },
    "accelerator": "GPU",
    "gpuClass": "standard"
  },
  "cells": [
    {
      "cell_type": "code",
      "execution_count": 1,
      "metadata": {
        "colab": {
          "resources": {
            "http://localhost:8080/nbextensions/google.colab/files.js": {
              "data": "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",
              "ok": true,
              "headers": [
                [
                  "content-type",
                  "application/javascript"
                ]
              ],
              "status": 200,
              "status_text": ""
            }
          },
          "base_uri": "https://localhost:8080/",
          "height": 73
        },
        "id": "mQCF7nlSgo-4",
        "outputId": "67c25111-397e-4091-e77f-d99ace409e8a"
      },
      "outputs": [
        {
          "output_type": "display_data",
          "data": {
            "text/plain": [
              "<IPython.core.display.HTML object>"
            ],
            "text/html": [
              "\n",
              "     <input type=\"file\" id=\"files-2ede539e-2409-4ac1-a95d-c675ffe32fb6\" name=\"files[]\" multiple disabled\n",
              "        style=\"border:none\" />\n",
              "     <output id=\"result-2ede539e-2409-4ac1-a95d-c675ffe32fb6\">\n",
              "      Upload widget is only available when the cell has been executed in the\n",
              "      current browser session. Please rerun this cell to enable.\n",
              "      </output>\n",
              "      <script src=\"/nbextensions/google.colab/files.js\"></script> "
            ]
          },
          "metadata": {}
        },
        {
          "output_type": "stream",
          "name": "stdout",
          "text": [
            "Saving dataset_anuka.zip to dataset_anuka.zip\n"
          ]
        }
      ],
      "source": [
        "from google.colab import files\n",
        "uploaded = files.upload()"
      ]
    },
    {
      "cell_type": "code",
      "source": [
        "import zipfile\n",
        "import io\n",
        "data = zipfile.ZipFile(io.BytesIO(uploaded['dataset_anuka.zip']), 'r')\n",
        "data.extractall()"
      ],
      "metadata": {
        "id": "OfXY9DFTgxcl"
      },
      "execution_count": 2,
      "outputs": []
    },
    {
      "cell_type": "code",
      "source": [
        "import os\n",
        "import keras"
      ],
      "metadata": {
        "id": "euvL0pXMg0a7"
      },
      "execution_count": 3,
      "outputs": []
    },
    {
      "cell_type": "code",
      "source": [
        "dataset_anuka_dir = '/content/dataset_anuka'"
      ],
      "metadata": {
        "id": "C7sNrmrLg17T"
      },
      "execution_count": 4,
      "outputs": []
    },
    {
      "cell_type": "code",
      "source": [
        "input_shape = (100,100,3)\n",
        "\n",
        "model1 = keras.Sequential([\n",
        "    keras.layers.Flatten(input_shape=(input_shape)),\n",
        "    keras.layers.Dense(2, activation='sigmoid')\n",
        "])"
      ],
      "metadata": {
        "id": "r9CBc8S5g-h9"
      },
      "execution_count": 5,
      "outputs": []
    },
    {
      "cell_type": "code",
      "source": [
        "model1.summary()"
      ],
      "metadata": {
        "colab": {
          "base_uri": "https://localhost:8080/"
        },
        "id": "eMzhy6JmhQ5c",
        "outputId": "e0918d74-0175-4ad6-c78c-4b8875c6bba1"
      },
      "execution_count": 6,
      "outputs": [
        {
          "output_type": "stream",
          "name": "stdout",
          "text": [
            "Model: \"sequential\"\n",
            "_________________________________________________________________\n",
            " Layer (type)                Output Shape              Param #   \n",
            "=================================================================\n",
            " flatten (Flatten)           (None, 30000)             0         \n",
            "                                                                 \n",
            " dense (Dense)               (None, 2)                 60002     \n",
            "                                                                 \n",
            "=================================================================\n",
            "Total params: 60,002\n",
            "Trainable params: 60,002\n",
            "Non-trainable params: 0\n",
            "_________________________________________________________________\n"
          ]
        }
      ]
    },
    {
      "cell_type": "code",
      "source": [
        "model2 = keras.Sequential([\n",
        "    keras.layers.Flatten(input_shape=(input_shape)),\n",
        "    keras.layers.Dense(12, activation='relu'),\n",
        "    keras.layers.Dense(2, activation='sigmoid')\n",
        "])"
      ],
      "metadata": {
        "id": "XFaqFtNjjTwg"
      },
      "execution_count": 26,
      "outputs": []
    },
    {
      "cell_type": "code",
      "source": [
        "model2.summary()"
      ],
      "metadata": {
        "colab": {
          "base_uri": "https://localhost:8080/"
        },
        "id": "sD_LYSuzkHzt",
        "outputId": "ab774e14-f3bc-4590-efef-9de90f8a62c9"
      },
      "execution_count": 29,
      "outputs": [
        {
          "output_type": "stream",
          "name": "stdout",
          "text": [
            "Model: \"sequential_2\"\n",
            "_________________________________________________________________\n",
            " Layer (type)                Output Shape              Param #   \n",
            "=================================================================\n",
            " flatten_2 (Flatten)         (None, 30000)             0         \n",
            "                                                                 \n",
            " dense_3 (Dense)             (None, 12)                360012    \n",
            "                                                                 \n",
            " dense_4 (Dense)             (None, 2)                 26        \n",
            "                                                                 \n",
            "=================================================================\n",
            "Total params: 360,038\n",
            "Trainable params: 360,038\n",
            "Non-trainable params: 0\n",
            "_________________________________________________________________\n"
          ]
        }
      ]
    },
    {
      "cell_type": "code",
      "source": [
        "model1.compile(optimizer='adam', loss='categorical_crossentropy', metrics=['accuracy'])\n",
        "model2.compile(optimizer='adam', loss='categorical_crossentropy', metrics=['accuracy'])"
      ],
      "metadata": {
        "id": "sS3LsY6fhU6j"
      },
      "execution_count": 30,
      "outputs": []
    },
    {
      "cell_type": "code",
      "source": [
        "epoch = 30"
      ],
      "metadata": {
        "id": "Qxx7TRNUhmdy"
      },
      "execution_count": 31,
      "outputs": []
    },
    {
      "cell_type": "code",
      "source": [
        "from keras.callbacks import EarlyStopping\n",
        "from keras.callbacks import ReduceLROnPlateau\n",
        "\n",
        "es = EarlyStopping(monitor='val_loss', patience=10, verbose=1, min_delta=1e-4)\n",
        "rlrop = ReduceLROnPlateau(monitor='val_loss', factor=0.1, patience=10, verbose=1, min_delta=1e-4)"
      ],
      "metadata": {
        "id": "3rvyAq7nmEGd"
      },
      "execution_count": 32,
      "outputs": []
    },
    {
      "cell_type": "code",
      "source": [
        "from keras.preprocessing.image import ImageDataGenerator\n",
        "datagen = ImageDataGenerator(rescale=1./255)\n",
        "train_it = datagen.flow_from_directory('/content/dataset_anuka/train', batch_size=64, target_size=(100, 100))\n",
        "validation_it = datagen.flow_from_directory('/content/dataset_anuka/val', batch_size=64, target_size=(100, 100))\n",
        "test_it = datagen.flow_from_directory('/content/dataset_anuka/test', batch_size=64, target_size=(100, 100))"
      ],
      "metadata": {
        "colab": {
          "base_uri": "https://localhost:8080/"
        },
        "id": "wEvhkkG0mzMD",
        "outputId": "e68bff83-9886-4511-b27d-25254eb37e3d"
      },
      "execution_count": 33,
      "outputs": [
        {
          "output_type": "stream",
          "name": "stdout",
          "text": [
            "Found 1920 images belonging to 2 classes.\n",
            "Found 240 images belonging to 2 classes.\n",
            "Found 240 images belonging to 2 classes.\n"
          ]
        }
      ]
    },
    {
      "cell_type": "code",
      "source": [
        "\n",
        "# fit model\n",
        "history = model1.fit(\n",
        "      train_it, \n",
        "      steps_per_epoch=len(train_it),\n",
        "      validation_data=validation_it, \n",
        "      validation_steps=len(validation_it), \n",
        "      epochs=epoch, \n",
        "      verbose=1,\n",
        "      callbacks=[es, rlrop])"
      ],
      "metadata": {
        "colab": {
          "base_uri": "https://localhost:8080/"
        },
        "id": "t2DhSEOshcaM",
        "outputId": "e8b413ec-b4e3-4ee3-8dee-cdd79ba0f628"
      },
      "execution_count": 23,
      "outputs": [
        {
          "output_type": "stream",
          "name": "stdout",
          "text": [
            "Found 1920 images belonging to 2 classes.\n",
            "Found 240 images belonging to 2 classes.\n",
            "Found 240 images belonging to 2 classes.\n",
            "Epoch 1/30\n",
            "30/30 [==============================] - 1s 42ms/step - loss: 0.1801 - accuracy: 0.9255 - val_loss: 0.4299 - val_accuracy: 0.8708 - lr: 0.0010\n",
            "Epoch 2/30\n",
            "30/30 [==============================] - 1s 39ms/step - loss: 0.1722 - accuracy: 0.9380 - val_loss: 0.4322 - val_accuracy: 0.8667 - lr: 0.0010\n",
            "Epoch 3/30\n",
            "30/30 [==============================] - 1s 39ms/step - loss: 0.1807 - accuracy: 0.9276 - val_loss: 0.4625 - val_accuracy: 0.8375 - lr: 0.0010\n",
            "Epoch 4/30\n",
            "30/30 [==============================] - 1s 40ms/step - loss: 0.1685 - accuracy: 0.9344 - val_loss: 0.4667 - val_accuracy: 0.8500 - lr: 0.0010\n",
            "Epoch 5/30\n",
            "30/30 [==============================] - 1s 40ms/step - loss: 0.1693 - accuracy: 0.9318 - val_loss: 0.4417 - val_accuracy: 0.8625 - lr: 0.0010\n",
            "Epoch 6/30\n",
            "30/30 [==============================] - 1s 40ms/step - loss: 0.1755 - accuracy: 0.9266 - val_loss: 0.4474 - val_accuracy: 0.8458 - lr: 0.0010\n",
            "Epoch 7/30\n",
            "30/30 [==============================] - 1s 40ms/step - loss: 0.1632 - accuracy: 0.9391 - val_loss: 0.4507 - val_accuracy: 0.8500 - lr: 0.0010\n",
            "Epoch 8/30\n",
            "30/30 [==============================] - 1s 40ms/step - loss: 0.1585 - accuracy: 0.9422 - val_loss: 0.4537 - val_accuracy: 0.8625 - lr: 0.0010\n",
            "Epoch 9/30\n",
            "30/30 [==============================] - 1s 39ms/step - loss: 0.1612 - accuracy: 0.9443 - val_loss: 0.4491 - val_accuracy: 0.8583 - lr: 0.0010\n",
            "Epoch 10/30\n",
            "30/30 [==============================] - 1s 40ms/step - loss: 0.1535 - accuracy: 0.9469 - val_loss: 0.4555 - val_accuracy: 0.8583 - lr: 0.0010\n",
            "Epoch 11/30\n",
            "29/30 [============================>.] - ETA: 0s - loss: 0.1545 - accuracy: 0.9407\n",
            "Epoch 11: ReduceLROnPlateau reducing learning rate to 0.00010000000474974513.\n",
            "30/30 [==============================] - 1s 39ms/step - loss: 0.1543 - accuracy: 0.9406 - val_loss: 0.4681 - val_accuracy: 0.8458 - lr: 0.0010\n",
            "Epoch 11: early stopping\n"
          ]
        }
      ]
    },
    {
      "cell_type": "code",
      "source": [
        "history2 = model2.fit(\n",
        "      train_it, \n",
        "      steps_per_epoch=len(train_it),\n",
        "      validation_data=validation_it, \n",
        "      validation_steps=len(validation_it), \n",
        "      epochs=epoch, \n",
        "      verbose=1,      \n",
        "      callbacks=[es, rlrop])"
      ],
      "metadata": {
        "colab": {
          "base_uri": "https://localhost:8080/"
        },
        "id": "J47W94bfj-14",
        "outputId": "bdaaeaf1-6694-43bd-f179-58c4abe93777"
      },
      "execution_count": 34,
      "outputs": [
        {
          "output_type": "stream",
          "name": "stdout",
          "text": [
            "Epoch 1/30\n",
            "30/30 [==============================] - 2s 43ms/step - loss: 0.3923 - accuracy: 0.8156 - val_loss: 0.3465 - val_accuracy: 0.8750 - lr: 0.0010\n",
            "Epoch 2/30\n",
            "30/30 [==============================] - 1s 39ms/step - loss: 0.2736 - accuracy: 0.8844 - val_loss: 0.3016 - val_accuracy: 0.8917 - lr: 0.0010\n",
            "Epoch 3/30\n",
            "30/30 [==============================] - 1s 38ms/step - loss: 0.2521 - accuracy: 0.8984 - val_loss: 0.2877 - val_accuracy: 0.9208 - lr: 0.0010\n",
            "Epoch 4/30\n",
            "30/30 [==============================] - 1s 38ms/step - loss: 0.2116 - accuracy: 0.9182 - val_loss: 0.2431 - val_accuracy: 0.9250 - lr: 0.0010\n",
            "Epoch 5/30\n",
            "30/30 [==============================] - 1s 38ms/step - loss: 0.1854 - accuracy: 0.9339 - val_loss: 0.2391 - val_accuracy: 0.9333 - lr: 0.0010\n",
            "Epoch 6/30\n",
            "30/30 [==============================] - 1s 38ms/step - loss: 0.1639 - accuracy: 0.9406 - val_loss: 0.2940 - val_accuracy: 0.9083 - lr: 0.0010\n",
            "Epoch 7/30\n",
            "30/30 [==============================] - 1s 38ms/step - loss: 0.1753 - accuracy: 0.9297 - val_loss: 0.2165 - val_accuracy: 0.9375 - lr: 0.0010\n",
            "Epoch 8/30\n",
            "30/30 [==============================] - 1s 37ms/step - loss: 0.1493 - accuracy: 0.9453 - val_loss: 0.2292 - val_accuracy: 0.9292 - lr: 0.0010\n",
            "Epoch 9/30\n",
            "30/30 [==============================] - 1s 38ms/step - loss: 0.1308 - accuracy: 0.9505 - val_loss: 0.2378 - val_accuracy: 0.9500 - lr: 0.0010\n",
            "Epoch 10/30\n",
            "30/30 [==============================] - 1s 38ms/step - loss: 0.1232 - accuracy: 0.9521 - val_loss: 0.2264 - val_accuracy: 0.9333 - lr: 0.0010\n",
            "Epoch 11/30\n",
            "30/30 [==============================] - 1s 40ms/step - loss: 0.1074 - accuracy: 0.9625 - val_loss: 0.2375 - val_accuracy: 0.9417 - lr: 0.0010\n",
            "Epoch 12/30\n",
            "30/30 [==============================] - 1s 38ms/step - loss: 0.0980 - accuracy: 0.9682 - val_loss: 0.2333 - val_accuracy: 0.9417 - lr: 0.0010\n",
            "Epoch 13/30\n",
            "30/30 [==============================] - 1s 38ms/step - loss: 0.1086 - accuracy: 0.9615 - val_loss: 0.2288 - val_accuracy: 0.9375 - lr: 0.0010\n",
            "Epoch 14/30\n",
            "30/30 [==============================] - 1s 37ms/step - loss: 0.0848 - accuracy: 0.9740 - val_loss: 0.2382 - val_accuracy: 0.9417 - lr: 0.0010\n",
            "Epoch 15/30\n",
            "30/30 [==============================] - 1s 38ms/step - loss: 0.0746 - accuracy: 0.9792 - val_loss: 0.2469 - val_accuracy: 0.9542 - lr: 0.0010\n",
            "Epoch 16/30\n",
            "30/30 [==============================] - 1s 38ms/step - loss: 0.0734 - accuracy: 0.9802 - val_loss: 0.2450 - val_accuracy: 0.9417 - lr: 0.0010\n",
            "Epoch 17/30\n",
            "29/30 [============================>.] - ETA: 0s - loss: 0.0691 - accuracy: 0.9790\n",
            "Epoch 17: ReduceLROnPlateau reducing learning rate to 0.00010000000474974513.\n",
            "30/30 [==============================] - 1s 38ms/step - loss: 0.0694 - accuracy: 0.9792 - val_loss: 0.2453 - val_accuracy: 0.9542 - lr: 0.0010\n",
            "Epoch 17: early stopping\n"
          ]
        }
      ]
    },
    {
      "cell_type": "code",
      "source": [
        "from matplotlib import pyplot\n",
        "def summarize_diagnostics(history):\n",
        "  # plot loss\n",
        "  pyplot.figure(0)\n",
        "  pyplot.title('Loss')\n",
        "  pyplot.plot(history.history['loss'], color='blue', label='train')\n",
        "  pyplot.plot(history.history['val_loss'], color='orange', label='test')\n",
        "  pyplot.legend(['loss','val_loss']) \n",
        "\n",
        "  # plot accuracy\n",
        "  pyplot.figure(1)\n",
        "  pyplot.title('Classification Accuracy')\n",
        "  pyplot.plot(history.history['accuracy'], color='blue', label='train')\n",
        "  pyplot.plot(history.history['val_accuracy'], color='orange', label='test')\n",
        "  pyplot.legend(['accuracy','val_accuracy'])"
      ],
      "metadata": {
        "id": "G5Q3foF7i0NR"
      },
      "execution_count": 35,
      "outputs": []
    },
    {
      "cell_type": "code",
      "source": [
        "#functions to build confusion matrix\n",
        "from tqdm import tqdm\n",
        "import os\n",
        "import cv2\n",
        "import numpy as np\n",
        "import itertools\n",
        "from sklearn.metrics import accuracy_score, confusion_matrix\n",
        "\n",
        "def load_data(dir_path, img_size=(100,100)):\n",
        "    \"\"\"\n",
        "    Load resized images as np.arrays to workspace\n",
        "    \"\"\"\n",
        "    X = []\n",
        "    y = []\n",
        "    i = 0\n",
        "    labels = dict()\n",
        "    for path in tqdm(sorted(os.listdir(dir_path))):\n",
        "        if not path.startswith('.'):\n",
        "            labels[i] = path\n",
        "            for file in os.listdir(dir_path + path):\n",
        "                if not file.startswith('.'):\n",
        "                    img = cv2.imread(dir_path + path + '/' + file)\n",
        "                    X.append(img)\n",
        "                    y.append(i)\n",
        "            i += 1\n",
        "    X = np.array(X)\n",
        "    y = np.array(y)\n",
        "    print(f'{len(X)} images loaded from {dir_path} directory.')\n",
        "    return X, y, labels\n",
        "\n",
        "\n",
        "\n",
        "def plot_confusion_matrix(cm, classes,\n",
        "                          normalize=False,\n",
        "                          title='Confusion matrix',\n",
        "                          cmap=pyplot.cm.Blues):\n",
        "    \"\"\"\n",
        "    This function prints and plots the confusion matrix.\n",
        "    Normalization can be applied by setting `normalize=True`.\n",
        "    \"\"\"\n",
        "    pyplot.figure(figsize = (6,6))\n",
        "    pyplot.imshow(cm, interpolation='nearest', cmap=cmap)\n",
        "    pyplot.title(title)\n",
        "    pyplot.colorbar()\n",
        "    tick_marks = np.arange(len(classes))\n",
        "    pyplot.xticks(tick_marks, classes, rotation=90)\n",
        "    pyplot.yticks(tick_marks, classes)\n",
        "    if normalize:\n",
        "        cm = cm.astype('float') / cm.sum(axis=1)[:, np.newaxis]\n",
        "\n",
        "    thresh = cm.max() / 2.\n",
        "    cm = np.round(cm,2)\n",
        "    for i, j in itertools.product(range(cm.shape[0]), range(cm.shape[1])):\n",
        "        pyplot.text(j, i, cm[i, j],\n",
        "                 horizontalalignment=\"center\",\n",
        "                 color=\"white\" if cm[i, j] > thresh else \"black\")\n",
        "    pyplot.tight_layout()\n",
        "    pyplot.ylabel('True label')\n",
        "    pyplot.xlabel('Predicted label')\n",
        "    pyplot.show()\n",
        "\n",
        "IMG_SIZE = (100,100)\n",
        "x_test, y_test, labels = load_data('/content/dataset_anuka/test/', IMG_SIZE)\n",
        "print(labels)"
      ],
      "metadata": {
        "colab": {
          "base_uri": "https://localhost:8080/"
        },
        "id": "5gsyKa51i3ao",
        "outputId": "3647317c-870f-45be-b0b9-04be39a381e2"
      },
      "execution_count": 36,
      "outputs": [
        {
          "output_type": "stream",
          "name": "stderr",
          "text": [
            "100%|██████████| 2/2 [00:00<00:00, 69.94it/s]"
          ]
        },
        {
          "output_type": "stream",
          "name": "stdout",
          "text": [
            "240 images loaded from /content/dataset_anuka/test/ directory.\n",
            "{0: 'Tipo A_ Kunzea', 1: 'Tipo B_ Lepto'}\n"
          ]
        },
        {
          "output_type": "stream",
          "name": "stderr",
          "text": [
            "\n"
          ]
        }
      ]
    },
    {
      "cell_type": "code",
      "source": [
        "summarize_diagnostics(history)"
      ],
      "metadata": {
        "colab": {
          "base_uri": "https://localhost:8080/",
          "height": 545
        },
        "id": "mIj-Hrzii5tw",
        "outputId": "36cfa93b-9790-47d8-be56-4dade6d1b3bc"
      },
      "execution_count": 37,
      "outputs": [
        {
          "output_type": "display_data",
          "data": {
            "text/plain": [
              "<Figure size 432x288 with 1 Axes>"
            ],
            "image/png": "[encoded data removed]"
          },
          "metadata": {
            "needs_background": "light"
          }
        },
        {
          "output_type": "display_data",
          "data": {
            "text/plain": [
              "<Figure size 432x288 with 1 Axes>"
            ],
            "image/png": "[encoded data removed]"
          },
          "metadata": {
            "needs_background": "light"
          }
        }
      ]
    },
    {
      "cell_type": "code",
      "source": [
        "classes = ['Tipo A_ Kunzea', 'Tipo B_ Lepto']"
      ],
      "metadata": {
        "id": "Ib0e9Qtzi72w"
      },
      "execution_count": 16,
      "outputs": []
    },
    {
      "cell_type": "code",
      "source": [
        "from sklearn.metrics import classification_report\n",
        "def validateResults(model):   \n",
        "  predictions = model.predict(x_test, batch_size=32)\n",
        "  y_pred = np.argmax(predictions, axis=1) \n",
        "  y_true = np.argmax(y_test, axis=0)\n",
        "\n",
        "  print(\"\\n\"+ classification_report(y_test, y_pred, target_names=classes))\n",
        "  print(confusion_matrix(y_test, y_pred))\n",
        "  confusion_mtx = confusion_matrix(y_test, y_pred)\n",
        "  cm = plot_confusion_matrix(confusion_mtx, classes = list(labels.items()), normalize=False)"
      ],
      "metadata": {
        "id": "VSftxsKui9pZ"
      },
      "execution_count": 38,
      "outputs": []
    },
    {
      "cell_type": "code",
      "source": [
        "validateResults(model1)"
      ],
      "metadata": {
        "colab": {
          "base_uri": "https://localhost:8080/",
          "height": 648
        },
        "id": "WJqH-5Pwi_XI",
        "outputId": "fbdae2bf-dc49-443e-f828-835585173b2e"
      },
      "execution_count": 39,
      "outputs": [
        {
          "output_type": "stream",
          "name": "stdout",
          "text": [
            "\n",
            "                precision    recall  f1-score   support\n",
            "\n",
            "Tipo A_ Kunzea       0.83      0.93      0.88       120\n",
            " Tipo B_ Lepto       0.92      0.81      0.86       120\n",
            "\n",
            "      accuracy                           0.87       240\n",
            "     macro avg       0.88      0.87      0.87       240\n",
            "  weighted avg       0.88      0.87      0.87       240\n",
            "\n",
            "[[112   8]\n",
            " [ 23  97]]\n"
          ]
        },
        {
          "output_type": "display_data",
          "data": {
            "text/plain": [
              "<Figure size 432x432 with 2 Axes>"
            ],
            "image/png": "[encoded data removed]"
          },
          "metadata": {
            "needs_background": "light"
          }
        }
      ]
    },
    {
      "cell_type": "code",
      "source": [
        "summarize_diagnostics(history2)"
      ],
      "metadata": {
        "colab": {
          "base_uri": "https://localhost:8080/",
          "height": 545
        },
        "id": "1n7qQZgikjwv",
        "outputId": "cf61aaf7-8845-4d38-a8f2-f7b059d8d5fb"
      },
      "execution_count": 40,
      "outputs": [
        {
          "output_type": "display_data",
          "data": {
            "text/plain": [
              "<Figure size 432x288 with 1 Axes>"
            ],
            "image/png": "[encoded data removed]"
          },
          "metadata": {
            "needs_background": "light"
          }
        },
        {
          "output_type": "display_data",
          "data": {
            "text/plain": [
              "<Figure size 432x288 with 1 Axes>"
            ],
            "image/png": "[encoded data removed]"
          },
          "metadata": {
            "needs_background": "light"
          }
        }
      ]
    },
    {
      "cell_type": "code",
      "source": [
        "validateResults(model2)"
      ],
      "metadata": {
        "colab": {
          "base_uri": "https://localhost:8080/",
          "height": 648
        },
        "id": "Donx1nfUkmJ-",
        "outputId": "bf117580-8acd-4aeb-92fb-70afd47c4da4"
      },
      "execution_count": 41,
      "outputs": [
        {
          "output_type": "stream",
          "name": "stdout",
          "text": [
            "\n",
            "                precision    recall  f1-score   support\n",
            "\n",
            "Tipo A_ Kunzea       0.76      0.98      0.86       120\n",
            " Tipo B_ Lepto       0.98      0.68      0.80       120\n",
            "\n",
            "      accuracy                           0.83       240\n",
            "     macro avg       0.87      0.83      0.83       240\n",
            "  weighted avg       0.87      0.83      0.83       240\n",
            "\n",
            "[[118   2]\n",
            " [ 38  82]]\n"
          ]
        },
        {
          "output_type": "display_data",
          "data": {
            "text/plain": [
              "<Figure size 432x432 with 2 Axes>"
            ],
            "image/png": "[encoded data removed]"
          },
          "metadata": {
            "needs_background": "light"
          }
        }
      ]
    }
  ]
}
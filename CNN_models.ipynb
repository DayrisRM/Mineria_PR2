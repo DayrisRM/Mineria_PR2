{
  "nbformat": 4,
  "nbformat_minor": 0,
  "metadata": {
    "colab": {
      "name": "CNN models.ipynb",
      "provenance": [],
      "authorship_tag": "ABX9TyP4/7LG1YyCn0JI6Z6Sfr9s"
    },
    "kernelspec": {
      "name": "python3",
      "display_name": "Python 3"
    },
    "language_info": {
      "name": "python"
    },
    "accelerator": "GPU",
    "gpuClass": "standard"
  },
  "cells": [
    {
      "cell_type": "code",
      "execution_count": 1,
      "metadata": {
        "colab": {
          "resources": {
            "http://localhost:8080/nbextensions/google.colab/files.js": {
              "data": "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",
              "ok": true,
              "headers": [
                [
                  "content-type",
                  "application/javascript"
                ]
              ],
              "status": 200,
              "status_text": ""
            }
          },
          "base_uri": "https://localhost:8080/",
          "height": 73
        },
        "id": "mjyPJI2Wf8OH",
        "outputId": "72e2b89b-67ff-4f51-cbbe-d162294912f8"
      },
      "outputs": [
        {
          "output_type": "display_data",
          "data": {
            "text/plain": [
              "<IPython.core.display.HTML object>"
            ],
            "text/html": [
              "\n",
              "     <input type=\"file\" id=\"files-95961aaa-69be-46f2-a1d4-a889cb4b18fd\" name=\"files[]\" multiple disabled\n",
              "        style=\"border:none\" />\n",
              "     <output id=\"result-95961aaa-69be-46f2-a1d4-a889cb4b18fd\">\n",
              "      Upload widget is only available when the cell has been executed in the\n",
              "      current browser session. Please rerun this cell to enable.\n",
              "      </output>\n",
              "      <script src=\"/nbextensions/google.colab/files.js\"></script> "
            ]
          },
          "metadata": {}
        },
        {
          "output_type": "stream",
          "name": "stdout",
          "text": [
            "Saving dataset_anuka.zip to dataset_anuka.zip\n"
          ]
        }
      ],
      "source": [
        "from google.colab import files\n",
        "uploaded = files.upload()"
      ]
    },
    {
      "cell_type": "code",
      "source": [
        "import zipfile\n",
        "import io\n",
        "data = zipfile.ZipFile(io.BytesIO(uploaded['dataset_anuka.zip']), 'r')\n",
        "data.extractall()"
      ],
      "metadata": {
        "id": "7uXCof2xgCWS"
      },
      "execution_count": 2,
      "outputs": []
    },
    {
      "cell_type": "code",
      "source": [
        "import os"
      ],
      "metadata": {
        "id": "x4sG72YogEtI"
      },
      "execution_count": 3,
      "outputs": []
    },
    {
      "cell_type": "code",
      "source": [
        "dataset_anuka_dir = '/content/dataset_anuka'"
      ],
      "metadata": {
        "id": "Fs_mAEA1gGNI"
      },
      "execution_count": 4,
      "outputs": []
    },
    {
      "cell_type": "code",
      "source": [
        "import keras\n",
        "from keras.layers import Dense, Conv2D\n",
        "from keras.layers import Flatten\n",
        "from keras.layers import MaxPooling2D, GlobalAveragePooling2D\n",
        "from keras.layers import Activation\n",
        "from keras.layers import BatchNormalization\n",
        "from keras.layers import Dropout\n",
        "from keras.models import Sequential\n",
        "from keras import backend as K\n",
        "\n",
        "from keras import optimizers"
      ],
      "metadata": {
        "id": "-3-Ta71SoQuL"
      },
      "execution_count": 5,
      "outputs": []
    },
    {
      "cell_type": "code",
      "source": [
        "model = keras.models.Sequential([\n",
        "    keras.layers.Conv2D(32, 3, activation=\"relu\", padding=\"same\", input_shape=[100, 100, 3]),\n",
        "    keras.layers.MaxPooling2D(2),\n",
        "    keras.layers.Conv2D(64, 3, activation=\"relu\", padding=\"same\"),    \n",
        "    keras.layers.MaxPooling2D(2),\n",
        "    keras.layers.Conv2D(128, 3, activation=\"relu\", padding=\"same\"),    \n",
        "    keras.layers.MaxPooling2D(2),\n",
        "    keras.layers.Flatten(),\n",
        "    keras.layers.Dense(128, activation=\"relu\"),\n",
        "    keras.layers.Dropout(0.5),\n",
        "    keras.layers.Dense(64, activation=\"relu\"),\n",
        "    keras.layers.Dropout(0.5),\n",
        "    #keras.layers.Dense(2, activation=\"softmax\")\n",
        "    keras.layers.Dense(2, activation=\"sigmoid\")    \n",
        "])"
      ],
      "metadata": {
        "id": "a8mo3HRIoUkL"
      },
      "execution_count": 6,
      "outputs": []
    },
    {
      "cell_type": "code",
      "source": [
        "model.summary()"
      ],
      "metadata": {
        "colab": {
          "base_uri": "https://localhost:8080/"
        },
        "id": "GUiu6e3doXW8",
        "outputId": "dfb3f770-d54a-4ec3-f58e-9458fcce15c6"
      },
      "execution_count": 7,
      "outputs": [
        {
          "output_type": "stream",
          "name": "stdout",
          "text": [
            "Model: \"sequential\"\n",
            "_________________________________________________________________\n",
            " Layer (type)                Output Shape              Param #   \n",
            "=================================================================\n",
            " conv2d (Conv2D)             (None, 100, 100, 32)      896       \n",
            "                                                                 \n",
            " max_pooling2d (MaxPooling2D  (None, 50, 50, 32)       0         \n",
            " )                                                               \n",
            "                                                                 \n",
            " conv2d_1 (Conv2D)           (None, 50, 50, 64)        18496     \n",
            "                                                                 \n",
            " max_pooling2d_1 (MaxPooling  (None, 25, 25, 64)       0         \n",
            " 2D)                                                             \n",
            "                                                                 \n",
            " conv2d_2 (Conv2D)           (None, 25, 25, 128)       73856     \n",
            "                                                                 \n",
            " max_pooling2d_2 (MaxPooling  (None, 12, 12, 128)      0         \n",
            " 2D)                                                             \n",
            "                                                                 \n",
            " flatten (Flatten)           (None, 18432)             0         \n",
            "                                                                 \n",
            " dense (Dense)               (None, 128)               2359424   \n",
            "                                                                 \n",
            " dropout (Dropout)           (None, 128)               0         \n",
            "                                                                 \n",
            " dense_1 (Dense)             (None, 64)                8256      \n",
            "                                                                 \n",
            " dropout_1 (Dropout)         (None, 64)                0         \n",
            "                                                                 \n",
            " dense_2 (Dense)             (None, 2)                 130       \n",
            "                                                                 \n",
            "=================================================================\n",
            "Total params: 2,461,058\n",
            "Trainable params: 2,461,058\n",
            "Non-trainable params: 0\n",
            "_________________________________________________________________\n"
          ]
        }
      ]
    },
    {
      "cell_type": "code",
      "source": [
        "epoch = 30"
      ],
      "metadata": {
        "id": "dshZxUTiOCg1"
      },
      "execution_count": 9,
      "outputs": []
    },
    {
      "cell_type": "code",
      "source": [
        "from tensorflow.keras.optimizers import SGD\n",
        "model.compile(optimizer='adam', loss='categorical_crossentropy', metrics=['accuracy'])\n",
        "#model.compile(loss = 'categorical_crossentropy', optimizer = 'Adam', metrics = ['accuracy'])\n",
        "#model.compile(optimizer='Adam', loss='binary_crossentropy', metrics=['accuracy'])\n",
        "\n",
        "#opt = SGD(learning_rate=0.01, momentum=0.9)\n",
        "#model.compile(optimizer=opt, loss='binary_crossentropy', metrics=['accuracy'])\n"
      ],
      "metadata": {
        "id": "zrzaLxUbocCT"
      },
      "execution_count": 10,
      "outputs": []
    },
    {
      "cell_type": "code",
      "source": [
        "from keras.preprocessing.image import ImageDataGenerator\n",
        "datagen = ImageDataGenerator(rescale=1./255)\n",
        "train_it = datagen.flow_from_directory('/content/dataset_anuka/train', batch_size=64, target_size=(100, 100))\n",
        "validation_it = datagen.flow_from_directory('/content/dataset_anuka/val', batch_size=64, target_size=(100, 100))\n",
        "test_it = datagen.flow_from_directory('/content/dataset_anuka/test', batch_size=64, target_size=(100, 100))\n",
        "# fit model\n",
        "history = model.fit(\n",
        "      train_it, \n",
        "      steps_per_epoch=len(train_it),\n",
        "      validation_data=validation_it, \n",
        "      validation_steps=len(validation_it), \n",
        "      epochs=epoch, \n",
        "      verbose=1)"
      ],
      "metadata": {
        "colab": {
          "base_uri": "https://localhost:8080/"
        },
        "id": "aMOTm1pbsWvN",
        "outputId": "e6f52cec-b5f3-46f7-a13d-dc75d7c6216b"
      },
      "execution_count": 11,
      "outputs": [
        {
          "output_type": "stream",
          "name": "stdout",
          "text": [
            "Found 1920 images belonging to 2 classes.\n",
            "Found 240 images belonging to 2 classes.\n",
            "Found 240 images belonging to 2 classes.\n",
            "Epoch 1/30\n",
            "30/30 [==============================] - 14s 58ms/step - loss: 0.4952 - accuracy: 0.7589 - val_loss: 0.3697 - val_accuracy: 0.8542\n",
            "Epoch 2/30\n",
            "30/30 [==============================] - 1s 47ms/step - loss: 0.3674 - accuracy: 0.8505 - val_loss: 0.3499 - val_accuracy: 0.8667\n",
            "Epoch 3/30\n",
            "30/30 [==============================] - 2s 51ms/step - loss: 0.3086 - accuracy: 0.8714 - val_loss: 0.3043 - val_accuracy: 0.8917\n",
            "Epoch 4/30\n",
            "30/30 [==============================] - 3s 93ms/step - loss: 0.2752 - accuracy: 0.8979 - val_loss: 0.2713 - val_accuracy: 0.9167\n",
            "Epoch 5/30\n",
            "30/30 [==============================] - 3s 105ms/step - loss: 0.2419 - accuracy: 0.9052 - val_loss: 0.2169 - val_accuracy: 0.9292\n",
            "Epoch 6/30\n",
            "30/30 [==============================] - 3s 111ms/step - loss: 0.2156 - accuracy: 0.9234 - val_loss: 0.2541 - val_accuracy: 0.9250\n",
            "Epoch 7/30\n",
            "30/30 [==============================] - 1s 48ms/step - loss: 0.2139 - accuracy: 0.9224 - val_loss: 0.2221 - val_accuracy: 0.9333\n",
            "Epoch 8/30\n",
            "30/30 [==============================] - 1s 48ms/step - loss: 0.1898 - accuracy: 0.9240 - val_loss: 0.2147 - val_accuracy: 0.9458\n",
            "Epoch 9/30\n",
            "30/30 [==============================] - 2s 50ms/step - loss: 0.1707 - accuracy: 0.9318 - val_loss: 0.2396 - val_accuracy: 0.9417\n",
            "Epoch 10/30\n",
            "30/30 [==============================] - 1s 48ms/step - loss: 0.1559 - accuracy: 0.9458 - val_loss: 0.2203 - val_accuracy: 0.9458\n",
            "Epoch 11/30\n",
            "30/30 [==============================] - 1s 46ms/step - loss: 0.1385 - accuracy: 0.9464 - val_loss: 0.1891 - val_accuracy: 0.9583\n",
            "Epoch 12/30\n",
            "30/30 [==============================] - 1s 47ms/step - loss: 0.1346 - accuracy: 0.9458 - val_loss: 0.2062 - val_accuracy: 0.9583\n",
            "Epoch 13/30\n",
            "30/30 [==============================] - 1s 48ms/step - loss: 0.1188 - accuracy: 0.9500 - val_loss: 0.1982 - val_accuracy: 0.9583\n",
            "Epoch 14/30\n",
            "30/30 [==============================] - 1s 49ms/step - loss: 0.1135 - accuracy: 0.9594 - val_loss: 0.2090 - val_accuracy: 0.9583\n",
            "Epoch 15/30\n",
            "30/30 [==============================] - 1s 49ms/step - loss: 0.1007 - accuracy: 0.9609 - val_loss: 0.1911 - val_accuracy: 0.9625\n",
            "Epoch 16/30\n",
            "30/30 [==============================] - 1s 48ms/step - loss: 0.0675 - accuracy: 0.9766 - val_loss: 0.3588 - val_accuracy: 0.9458\n",
            "Epoch 17/30\n",
            "30/30 [==============================] - 1s 47ms/step - loss: 0.0940 - accuracy: 0.9667 - val_loss: 0.2582 - val_accuracy: 0.9583\n",
            "Epoch 18/30\n",
            "30/30 [==============================] - 1s 47ms/step - loss: 0.0819 - accuracy: 0.9740 - val_loss: 0.2604 - val_accuracy: 0.9667\n",
            "Epoch 19/30\n",
            "30/30 [==============================] - 1s 48ms/step - loss: 0.0615 - accuracy: 0.9750 - val_loss: 0.2850 - val_accuracy: 0.9583\n",
            "Epoch 20/30\n",
            "30/30 [==============================] - 1s 48ms/step - loss: 0.0676 - accuracy: 0.9786 - val_loss: 0.3045 - val_accuracy: 0.9625\n",
            "Epoch 21/30\n",
            "30/30 [==============================] - 1s 49ms/step - loss: 0.0731 - accuracy: 0.9719 - val_loss: 0.2869 - val_accuracy: 0.9625\n",
            "Epoch 22/30\n",
            "30/30 [==============================] - 1s 47ms/step - loss: 0.0503 - accuracy: 0.9828 - val_loss: 0.2713 - val_accuracy: 0.9625\n",
            "Epoch 23/30\n",
            "30/30 [==============================] - 1s 48ms/step - loss: 0.0483 - accuracy: 0.9849 - val_loss: 0.2988 - val_accuracy: 0.9583\n",
            "Epoch 24/30\n",
            "30/30 [==============================] - 1s 47ms/step - loss: 0.0587 - accuracy: 0.9812 - val_loss: 0.2675 - val_accuracy: 0.9417\n",
            "Epoch 25/30\n",
            "30/30 [==============================] - 1s 48ms/step - loss: 0.0600 - accuracy: 0.9818 - val_loss: 0.3069 - val_accuracy: 0.9542\n",
            "Epoch 26/30\n",
            "30/30 [==============================] - 1s 47ms/step - loss: 0.0417 - accuracy: 0.9833 - val_loss: 0.3773 - val_accuracy: 0.9625\n",
            "Epoch 27/30\n",
            "30/30 [==============================] - 1s 48ms/step - loss: 0.0434 - accuracy: 0.9839 - val_loss: 0.2691 - val_accuracy: 0.9500\n",
            "Epoch 28/30\n",
            "30/30 [==============================] - 1s 48ms/step - loss: 0.0334 - accuracy: 0.9896 - val_loss: 0.3916 - val_accuracy: 0.9625\n",
            "Epoch 29/30\n",
            "30/30 [==============================] - 2s 53ms/step - loss: 0.0520 - accuracy: 0.9807 - val_loss: 0.3085 - val_accuracy: 0.9625\n",
            "Epoch 30/30\n",
            "30/30 [==============================] - 1s 48ms/step - loss: 0.0463 - accuracy: 0.9849 - val_loss: 0.3215 - val_accuracy: 0.9667\n"
          ]
        }
      ]
    },
    {
      "cell_type": "code",
      "source": [
        "from matplotlib import pyplot\n",
        "def summarize_diagnostics(history):\n",
        "  # plot loss\n",
        "  pyplot.figure(0)\n",
        "  pyplot.title('Loss')\n",
        "  pyplot.plot(history.history['loss'], color='blue', label='train')\n",
        "  pyplot.plot(history.history['val_loss'], color='orange', label='test')\n",
        "  pyplot.legend(['loss','val_loss']) \n",
        "\n",
        "  # plot accuracy\n",
        "  pyplot.figure(1)\n",
        "  pyplot.title('Classification Accuracy')\n",
        "  pyplot.plot(history.history['accuracy'], color='blue', label='train')\n",
        "  pyplot.plot(history.history['val_accuracy'], color='orange', label='test')\n",
        "  pyplot.legend(['accuracy','val_accuracy'])"
      ],
      "metadata": {
        "id": "bc7T_He_omzi"
      },
      "execution_count": 12,
      "outputs": []
    },
    {
      "cell_type": "code",
      "source": [
        "#functions to build confusion matrix\n",
        "from tqdm import tqdm\n",
        "import os\n",
        "import cv2\n",
        "import numpy as np\n",
        "import itertools\n",
        "from sklearn.metrics import accuracy_score, confusion_matrix\n",
        "\n",
        "def load_data(dir_path, img_size=(100,100)):\n",
        "    \"\"\"\n",
        "    Load resized images as np.arrays to workspace\n",
        "    \"\"\"\n",
        "    X = []\n",
        "    y = []\n",
        "    i = 0\n",
        "    labels = dict()\n",
        "    for path in tqdm(sorted(os.listdir(dir_path))):\n",
        "        if not path.startswith('.'):\n",
        "            labels[i] = path\n",
        "            for file in os.listdir(dir_path + path):\n",
        "                if not file.startswith('.'):\n",
        "                    img = cv2.imread(dir_path + path + '/' + file)\n",
        "                    X.append(img)\n",
        "                    y.append(i)\n",
        "            i += 1\n",
        "    X = np.array(X)\n",
        "    y = np.array(y)\n",
        "    print(f'{len(X)} images loaded from {dir_path} directory.')\n",
        "    return X, y, labels\n",
        "\n",
        "\n",
        "\n",
        "def plot_confusion_matrix(cm, classes,\n",
        "                          normalize=False,\n",
        "                          title='Confusion matrix',\n",
        "                          cmap=pyplot.cm.Blues):\n",
        "    \"\"\"\n",
        "    This function prints and plots the confusion matrix.\n",
        "    Normalization can be applied by setting `normalize=True`.\n",
        "    \"\"\"\n",
        "    pyplot.figure(figsize = (6,6))\n",
        "    pyplot.imshow(cm, interpolation='nearest', cmap=cmap)\n",
        "    pyplot.title(title)\n",
        "    pyplot.colorbar()\n",
        "    tick_marks = np.arange(len(classes))\n",
        "    pyplot.xticks(tick_marks, classes, rotation=90)\n",
        "    pyplot.yticks(tick_marks, classes)\n",
        "    if normalize:\n",
        "        cm = cm.astype('float') / cm.sum(axis=1)[:, np.newaxis]\n",
        "\n",
        "    thresh = cm.max() / 2.\n",
        "    cm = np.round(cm,2)\n",
        "    for i, j in itertools.product(range(cm.shape[0]), range(cm.shape[1])):\n",
        "        pyplot.text(j, i, cm[i, j],\n",
        "                 horizontalalignment=\"center\",\n",
        "                 color=\"white\" if cm[i, j] > thresh else \"black\")\n",
        "    pyplot.tight_layout()\n",
        "    pyplot.ylabel('True label')\n",
        "    pyplot.xlabel('Predicted label')\n",
        "    pyplot.show()\n",
        "\n",
        "IMG_SIZE = (100,100)\n",
        "x_test, y_test, labels = load_data('/content/dataset_anuka/test/', IMG_SIZE)\n",
        "print(labels)"
      ],
      "metadata": {
        "colab": {
          "base_uri": "https://localhost:8080/"
        },
        "id": "nHHuIAdLvLf_",
        "outputId": "cae5a769-8ab9-4ba5-9dea-73a930ace910"
      },
      "execution_count": 13,
      "outputs": [
        {
          "output_type": "stream",
          "name": "stderr",
          "text": [
            "100%|██████████| 2/2 [00:00<00:00, 37.75it/s]"
          ]
        },
        {
          "output_type": "stream",
          "name": "stdout",
          "text": [
            "240 images loaded from /content/dataset_anuka/test/ directory.\n",
            "{0: 'Tipo A_ Kunzea', 1: 'Tipo B_ Lepto'}\n"
          ]
        },
        {
          "output_type": "stream",
          "name": "stderr",
          "text": [
            "\n"
          ]
        }
      ]
    },
    {
      "cell_type": "code",
      "source": [
        "summarize_diagnostics(history)"
      ],
      "metadata": {
        "colab": {
          "base_uri": "https://localhost:8080/",
          "height": 545
        },
        "id": "CghARmwFwAt4",
        "outputId": "8461c5de-15e1-4f9a-e37c-f57b9e444212"
      },
      "execution_count": 14,
      "outputs": [
        {
          "output_type": "display_data",
          "data": {
            "text/plain": [
              "<Figure size 432x288 with 1 Axes>"
            ],
            "image/png": "[encoded data removed]"
          },
          "metadata": {
            "needs_background": "light"
          }
        },
        {
          "output_type": "display_data",
          "data": {
            "text/plain": [
              "<Figure size 432x288 with 1 Axes>"
            ],
            "image/png": "[encoded data removed]"
          },
          "metadata": {
            "needs_background": "light"
          }
        }
      ]
    },
    {
      "cell_type": "code",
      "source": [
        "classes = ['Tipo A_ Kunzea', 'Tipo B_ Lepto']"
      ],
      "metadata": {
        "id": "FzGpf_qRwpSe"
      },
      "execution_count": 15,
      "outputs": []
    },
    {
      "cell_type": "code",
      "source": [
        "from sklearn.metrics import classification_report\n",
        "def validateResults(model):   \n",
        "  predictions = model.predict(x_test, batch_size=32)\n",
        "  y_pred = np.argmax(predictions, axis=1) \n",
        "  y_true = np.argmax(y_test, axis=0)\n",
        "\n",
        "  print(\"\\n\"+ classification_report(y_test, y_pred, target_names=classes))\n",
        "  print(confusion_matrix(y_test, y_pred))\n",
        "  confusion_mtx = confusion_matrix(y_test, y_pred)\n",
        "  cm = plot_confusion_matrix(confusion_mtx, classes = list(labels.items()), normalize=False)"
      ],
      "metadata": {
        "id": "rOr8EmG8wUyl"
      },
      "execution_count": 16,
      "outputs": []
    },
    {
      "cell_type": "code",
      "source": [
        "validateResults(model)"
      ],
      "metadata": {
        "colab": {
          "base_uri": "https://localhost:8080/",
          "height": 648
        },
        "id": "6KqPqw2Jotei",
        "outputId": "cade00e0-44ca-4c29-e6de-5d9aa024897a"
      },
      "execution_count": 17,
      "outputs": [
        {
          "output_type": "stream",
          "name": "stdout",
          "text": [
            "\n",
            "                precision    recall  f1-score   support\n",
            "\n",
            "Tipo A_ Kunzea       0.94      0.97      0.95       120\n",
            " Tipo B_ Lepto       0.97      0.94      0.95       120\n",
            "\n",
            "      accuracy                           0.95       240\n",
            "     macro avg       0.95      0.95      0.95       240\n",
            "  weighted avg       0.95      0.95      0.95       240\n",
            "\n",
            "[[116   4]\n",
            " [  7 113]]\n"
          ]
        },
        {
          "output_type": "display_data",
          "data": {
            "text/plain": [
              "<Figure size 432x432 with 2 Axes>"
            ],
            "image/png": "[encoded data removed]"
          },
          "metadata": {
            "needs_background": "light"
          }
        }
      ]
    },
    {
      "cell_type": "markdown",
      "source": [
        "\n",
        "\n",
        "---\n",
        "\n"
      ],
      "metadata": {
        "id": "oZNM9Vr4NR_W"
      }
    },
    {
      "cell_type": "markdown",
      "source": [
        "CNN v2"
      ],
      "metadata": {
        "id": "JSr9JNdjNUfL"
      }
    },
    {
      "cell_type": "markdown",
      "source": [
        "\n",
        "\n",
        "---\n",
        "\n"
      ],
      "metadata": {
        "id": "CazseKqGNWn1"
      }
    },
    {
      "cell_type": "code",
      "source": [
        "model2 = keras.models.Sequential([\n",
        "    keras.layers.Conv2D(32, 3, activation=\"relu\", input_shape=[100, 100, 3]),\n",
        "    keras.layers.MaxPooling2D(2),\n",
        "    keras.layers.Dropout(0.2),\n",
        "    keras.layers.Conv2D(64, 3, activation=\"relu\"),    \n",
        "    keras.layers.MaxPooling2D(2),\n",
        "    keras.layers.Dropout(0.2),\n",
        "    keras.layers.Conv2D(128, 3, activation=\"relu\"),    \n",
        "    keras.layers.MaxPooling2D(2),\n",
        "    keras.layers.Dropout(0.2),\n",
        "    keras.layers.Flatten(),\n",
        "    keras.layers.Dense(128, activation=\"relu\"),\n",
        "    keras.layers.Dropout(0.5),\n",
        "    keras.layers.Dense(64, activation=\"relu\"),\n",
        "    keras.layers.Dropout(0.5),   \n",
        "    keras.layers.Dense(2, activation=\"sigmoid\")    \n",
        "])"
      ],
      "metadata": {
        "id": "CXXlb4jbNYnV"
      },
      "execution_count": 27,
      "outputs": []
    },
    {
      "cell_type": "code",
      "source": [
        "model2.summary()"
      ],
      "metadata": {
        "colab": {
          "base_uri": "https://localhost:8080/"
        },
        "id": "Za4ok2iRNtx0",
        "outputId": "c287f54f-3385-41f6-eaa5-a935c8f0f164"
      },
      "execution_count": 28,
      "outputs": [
        {
          "output_type": "stream",
          "name": "stdout",
          "text": [
            "Model: \"sequential_2\"\n",
            "_________________________________________________________________\n",
            " Layer (type)                Output Shape              Param #   \n",
            "=================================================================\n",
            " conv2d_6 (Conv2D)           (None, 98, 98, 32)        896       \n",
            "                                                                 \n",
            " max_pooling2d_6 (MaxPooling  (None, 49, 49, 32)       0         \n",
            " 2D)                                                             \n",
            "                                                                 \n",
            " dropout_7 (Dropout)         (None, 49, 49, 32)        0         \n",
            "                                                                 \n",
            " conv2d_7 (Conv2D)           (None, 47, 47, 64)        18496     \n",
            "                                                                 \n",
            " max_pooling2d_7 (MaxPooling  (None, 23, 23, 64)       0         \n",
            " 2D)                                                             \n",
            "                                                                 \n",
            " dropout_8 (Dropout)         (None, 23, 23, 64)        0         \n",
            "                                                                 \n",
            " conv2d_8 (Conv2D)           (None, 21, 21, 128)       73856     \n",
            "                                                                 \n",
            " max_pooling2d_8 (MaxPooling  (None, 10, 10, 128)      0         \n",
            " 2D)                                                             \n",
            "                                                                 \n",
            " dropout_9 (Dropout)         (None, 10, 10, 128)       0         \n",
            "                                                                 \n",
            " flatten_2 (Flatten)         (None, 12800)             0         \n",
            "                                                                 \n",
            " dense_6 (Dense)             (None, 128)               1638528   \n",
            "                                                                 \n",
            " dropout_10 (Dropout)        (None, 128)               0         \n",
            "                                                                 \n",
            " dense_7 (Dense)             (None, 64)                8256      \n",
            "                                                                 \n",
            " dropout_11 (Dropout)        (None, 64)                0         \n",
            "                                                                 \n",
            " dense_8 (Dense)             (None, 2)                 130       \n",
            "                                                                 \n",
            "=================================================================\n",
            "Total params: 1,740,162\n",
            "Trainable params: 1,740,162\n",
            "Non-trainable params: 0\n",
            "_________________________________________________________________\n"
          ]
        }
      ]
    },
    {
      "cell_type": "code",
      "source": [
        "model2.compile(optimizer='adam', loss='categorical_crossentropy', metrics=['accuracy'])"
      ],
      "metadata": {
        "id": "qBRoQzuNN129"
      },
      "execution_count": 29,
      "outputs": []
    },
    {
      "cell_type": "code",
      "source": [
        "# fit model\n",
        "from keras.callbacks import EarlyStopping\n",
        "from keras.callbacks import ReduceLROnPlateau\n",
        "\n",
        "#es = EarlyStopping(monitor='val_loss', patience=10, verbose=1, min_delta=1e-4)\n",
        "rlrop = ReduceLROnPlateau(monitor='val_loss', factor=0.1, patience=10, verbose=1, min_delta=1e-4)\n",
        "\n",
        "history2 = model2.fit(\n",
        "      train_it, \n",
        "      steps_per_epoch=len(train_it),\n",
        "      validation_data=validation_it, \n",
        "      validation_steps=len(validation_it), \n",
        "      epochs=epoch, \n",
        "      verbose=1,\n",
        "      callbacks=[rlrop])"
      ],
      "metadata": {
        "colab": {
          "base_uri": "https://localhost:8080/"
        },
        "id": "Ciza_SmeN7KN",
        "outputId": "e51697e3-f926-4a6f-bc13-d8ae230458d0"
      },
      "execution_count": 30,
      "outputs": [
        {
          "output_type": "stream",
          "name": "stdout",
          "text": [
            "Epoch 1/30\n",
            "30/30 [==============================] - 3s 57ms/step - loss: 0.5536 - accuracy: 0.7094 - val_loss: 0.4663 - val_accuracy: 0.8125 - lr: 0.0010\n",
            "Epoch 2/30\n",
            "30/30 [==============================] - 1s 48ms/step - loss: 0.4095 - accuracy: 0.8255 - val_loss: 0.3628 - val_accuracy: 0.8500 - lr: 0.0010\n",
            "Epoch 3/30\n",
            "30/30 [==============================] - 1s 48ms/step - loss: 0.3497 - accuracy: 0.8615 - val_loss: 0.3153 - val_accuracy: 0.8875 - lr: 0.0010\n",
            "Epoch 4/30\n",
            "30/30 [==============================] - 1s 49ms/step - loss: 0.3287 - accuracy: 0.8776 - val_loss: 0.3128 - val_accuracy: 0.9083 - lr: 0.0010\n",
            "Epoch 5/30\n",
            "30/30 [==============================] - 1s 48ms/step - loss: 0.2896 - accuracy: 0.8849 - val_loss: 0.3218 - val_accuracy: 0.8500 - lr: 0.0010\n",
            "Epoch 6/30\n",
            "30/30 [==============================] - 1s 48ms/step - loss: 0.2720 - accuracy: 0.8948 - val_loss: 0.2753 - val_accuracy: 0.9167 - lr: 0.0010\n",
            "Epoch 7/30\n",
            "30/30 [==============================] - 1s 49ms/step - loss: 0.2582 - accuracy: 0.9073 - val_loss: 0.2534 - val_accuracy: 0.9333 - lr: 0.0010\n",
            "Epoch 8/30\n",
            "30/30 [==============================] - 1s 47ms/step - loss: 0.2135 - accuracy: 0.9167 - val_loss: 0.2306 - val_accuracy: 0.9250 - lr: 0.0010\n",
            "Epoch 9/30\n",
            "30/30 [==============================] - 1s 47ms/step - loss: 0.1906 - accuracy: 0.9292 - val_loss: 0.2281 - val_accuracy: 0.9417 - lr: 0.0010\n",
            "Epoch 10/30\n",
            "30/30 [==============================] - 2s 50ms/step - loss: 0.1928 - accuracy: 0.9276 - val_loss: 0.2201 - val_accuracy: 0.9375 - lr: 0.0010\n",
            "Epoch 11/30\n",
            "30/30 [==============================] - 1s 48ms/step - loss: 0.1826 - accuracy: 0.9307 - val_loss: 0.2458 - val_accuracy: 0.9250 - lr: 0.0010\n",
            "Epoch 12/30\n",
            "30/30 [==============================] - 1s 47ms/step - loss: 0.1807 - accuracy: 0.9323 - val_loss: 0.2474 - val_accuracy: 0.9333 - lr: 0.0010\n",
            "Epoch 13/30\n",
            "30/30 [==============================] - 1s 47ms/step - loss: 0.2045 - accuracy: 0.9328 - val_loss: 0.2086 - val_accuracy: 0.9375 - lr: 0.0010\n",
            "Epoch 14/30\n",
            "30/30 [==============================] - 1s 48ms/step - loss: 0.1635 - accuracy: 0.9411 - val_loss: 0.2029 - val_accuracy: 0.9375 - lr: 0.0010\n",
            "Epoch 15/30\n",
            "30/30 [==============================] - 1s 48ms/step - loss: 0.1529 - accuracy: 0.9391 - val_loss: 0.2069 - val_accuracy: 0.9375 - lr: 0.0010\n",
            "Epoch 16/30\n",
            "30/30 [==============================] - 1s 47ms/step - loss: 0.1405 - accuracy: 0.9474 - val_loss: 0.2256 - val_accuracy: 0.9500 - lr: 0.0010\n",
            "Epoch 17/30\n",
            "30/30 [==============================] - 1s 49ms/step - loss: 0.1483 - accuracy: 0.9380 - val_loss: 0.2118 - val_accuracy: 0.9500 - lr: 0.0010\n",
            "Epoch 18/30\n",
            "30/30 [==============================] - 1s 47ms/step - loss: 0.1354 - accuracy: 0.9469 - val_loss: 0.2325 - val_accuracy: 0.9500 - lr: 0.0010\n",
            "Epoch 19/30\n",
            "30/30 [==============================] - 1s 47ms/step - loss: 0.1369 - accuracy: 0.9547 - val_loss: 0.1997 - val_accuracy: 0.9542 - lr: 0.0010\n",
            "Epoch 20/30\n",
            "30/30 [==============================] - 1s 47ms/step - loss: 0.1263 - accuracy: 0.9542 - val_loss: 0.2446 - val_accuracy: 0.9500 - lr: 0.0010\n",
            "Epoch 21/30\n",
            "30/30 [==============================] - 1s 48ms/step - loss: 0.1205 - accuracy: 0.9568 - val_loss: 0.2348 - val_accuracy: 0.9542 - lr: 0.0010\n",
            "Epoch 22/30\n",
            "30/30 [==============================] - 1s 47ms/step - loss: 0.1204 - accuracy: 0.9516 - val_loss: 0.2299 - val_accuracy: 0.9500 - lr: 0.0010\n",
            "Epoch 23/30\n",
            "30/30 [==============================] - 1s 47ms/step - loss: 0.1154 - accuracy: 0.9557 - val_loss: 0.1911 - val_accuracy: 0.9542 - lr: 0.0010\n",
            "Epoch 24/30\n",
            "30/30 [==============================] - 1s 48ms/step - loss: 0.0959 - accuracy: 0.9651 - val_loss: 0.2307 - val_accuracy: 0.9542 - lr: 0.0010\n",
            "Epoch 25/30\n",
            "30/30 [==============================] - 1s 48ms/step - loss: 0.0951 - accuracy: 0.9630 - val_loss: 0.2588 - val_accuracy: 0.9542 - lr: 0.0010\n",
            "Epoch 26/30\n",
            "30/30 [==============================] - 1s 47ms/step - loss: 0.0789 - accuracy: 0.9719 - val_loss: 0.3110 - val_accuracy: 0.9500 - lr: 0.0010\n",
            "Epoch 27/30\n",
            "30/30 [==============================] - 1s 48ms/step - loss: 0.1116 - accuracy: 0.9615 - val_loss: 0.2125 - val_accuracy: 0.9542 - lr: 0.0010\n",
            "Epoch 28/30\n",
            "30/30 [==============================] - 1s 47ms/step - loss: 0.0826 - accuracy: 0.9641 - val_loss: 0.2437 - val_accuracy: 0.9542 - lr: 0.0010\n",
            "Epoch 29/30\n",
            "30/30 [==============================] - 1s 48ms/step - loss: 0.0881 - accuracy: 0.9672 - val_loss: 0.2411 - val_accuracy: 0.9542 - lr: 0.0010\n",
            "Epoch 30/30\n",
            "30/30 [==============================] - 1s 47ms/step - loss: 0.0793 - accuracy: 0.9714 - val_loss: 0.2661 - val_accuracy: 0.9542 - lr: 0.0010\n"
          ]
        }
      ]
    },
    {
      "cell_type": "code",
      "source": [
        "summarize_diagnostics(history2)"
      ],
      "metadata": {
        "colab": {
          "base_uri": "https://localhost:8080/",
          "height": 545
        },
        "id": "JW61rqdlOJf1",
        "outputId": "7e6d2ad3-ae54-4788-a5ae-8f605ad44ddd"
      },
      "execution_count": 31,
      "outputs": [
        {
          "output_type": "display_data",
          "data": {
            "text/plain": [
              "<Figure size 432x288 with 1 Axes>"
            ],
            "image/png": "[encoded data removed]"
          },
          "metadata": {
            "needs_background": "light"
          }
        },
        {
          "output_type": "display_data",
          "data": {
            "text/plain": [
              "<Figure size 432x288 with 1 Axes>"
            ],
            "image/png": "[encoded data removed]"
          },
          "metadata": {
            "needs_background": "light"
          }
        }
      ]
    },
    {
      "cell_type": "code",
      "source": [
        "validateResults(model2)"
      ],
      "metadata": {
        "colab": {
          "base_uri": "https://localhost:8080/",
          "height": 648
        },
        "id": "JGmGWuj7ORNM",
        "outputId": "33ac935d-aaff-4917-81ee-18ecc09a77c3"
      },
      "execution_count": 32,
      "outputs": [
        {
          "output_type": "stream",
          "name": "stdout",
          "text": [
            "\n",
            "                precision    recall  f1-score   support\n",
            "\n",
            "Tipo A_ Kunzea       0.98      0.96      0.97       120\n",
            " Tipo B_ Lepto       0.96      0.98      0.97       120\n",
            "\n",
            "      accuracy                           0.97       240\n",
            "     macro avg       0.97      0.97      0.97       240\n",
            "  weighted avg       0.97      0.97      0.97       240\n",
            "\n",
            "[[115   5]\n",
            " [  2 118]]\n"
          ]
        },
        {
          "output_type": "display_data",
          "data": {
            "text/plain": [
              "<Figure size 432x432 with 2 Axes>"
            ],
            "image/png": "[encoded data removed]"
          },
          "metadata": {
            "needs_background": "light"
          }
        }
      ]
    }
  ]
}
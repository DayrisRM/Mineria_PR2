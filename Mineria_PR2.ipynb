{
  "nbformat": 4,
  "nbformat_minor": 0,
  "metadata": {
    "colab": {
      "name": "Mineria_PR2.ipynb",
      "provenance": [],
      "authorship_tag": "ABX9TyM2Pu6qSeeGBeRsGmHwZdRm"
    },
    "kernelspec": {
      "name": "python3",
      "display_name": "Python 3"
    },
    "language_info": {
      "name": "python"
    },
    "accelerator": "GPU",
    "gpuClass": "standard"
  },
  "cells": [
    {
      "cell_type": "markdown",
      "source": [
        "----- Build dataset -----"
      ],
      "metadata": {
        "id": "F_aZtrMEtNyG"
      }
    },
    {
      "cell_type": "code",
      "execution_count": 1,
      "metadata": {
        "colab": {
          "resources": {
            "http://localhost:8080/nbextensions/google.colab/files.js": {
              "data": "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",
              "ok": true,
              "headers": [
                [
                  "content-type",
                  "application/javascript"
                ]
              ],
              "status": 200,
              "status_text": ""
            }
          },
          "base_uri": "https://localhost:8080/",
          "height": 73
        },
        "id": "-IwFC6JFmQtb",
        "outputId": "7eba36bc-d410-4191-f1ba-9025d907c0d9"
      },
      "outputs": [
        {
          "output_type": "display_data",
          "data": {
            "text/plain": [
              "<IPython.core.display.HTML object>"
            ],
            "text/html": [
              "\n",
              "     <input type=\"file\" id=\"files-30c2c7da-af85-4a09-b59f-dcdda5acbe90\" name=\"files[]\" multiple disabled\n",
              "        style=\"border:none\" />\n",
              "     <output id=\"result-30c2c7da-af85-4a09-b59f-dcdda5acbe90\">\n",
              "      Upload widget is only available when the cell has been executed in the\n",
              "      current browser session. Please rerun this cell to enable.\n",
              "      </output>\n",
              "      <script src=\"/nbextensions/google.colab/files.js\"></script> "
            ]
          },
          "metadata": {}
        },
        {
          "output_type": "stream",
          "name": "stdout",
          "text": [
            "Saving anuka.zip to anuka.zip\n"
          ]
        }
      ],
      "source": [
        "from google.colab import files\n",
        "uploaded = files.upload()"
      ]
    },
    {
      "cell_type": "code",
      "source": [
        "import zipfile\n",
        "import io\n",
        "data = zipfile.ZipFile(io.BytesIO(uploaded['anuka.zip']), 'r')\n",
        "data.extractall()"
      ],
      "metadata": {
        "id": "TowsUzyYqWUz"
      },
      "execution_count": 2,
      "outputs": []
    },
    {
      "cell_type": "code",
      "source": [
        "import os\n",
        "!mkdir dataset_anuka\n",
        "os.makedirs(\"dataset_anuka_vgg16/Tipo A_ Kunzea\")\n",
        "os.makedirs(\"dataset_anuka_vgg16/Tipo B_ Lepto\")\n",
        "!mkdir dataset_vgg16"
      ],
      "metadata": {
        "id": "lkPHRDUrN3D8"
      },
      "execution_count": 3,
      "outputs": []
    },
    {
      "cell_type": "code",
      "source": [
        "dataset_anuka_dir = '/content/dataset_anuka'\n",
        "dataset_vgg16_dir = '/content/dataset_anuka_vgg16'"
      ],
      "metadata": {
        "id": "78wX_oKg4zyr"
      },
      "execution_count": 4,
      "outputs": []
    },
    {
      "cell_type": "code",
      "source": [
        "import cv2\n",
        "import matplotlib.pyplot as plt \n",
        "import seaborn as sns\n",
        "\n",
        "from PIL import Image\n",
        "from keras.preprocessing.image import img_to_array\n",
        "from keras.preprocessing.image import load_img\n",
        "from keras.utils import np_utils\n",
        "import numpy as np \n",
        "import pandas as pd "
      ],
      "metadata": {
        "id": "G1ASLLLQq1mJ"
      },
      "execution_count": 5,
      "outputs": []
    },
    {
      "cell_type": "code",
      "source": [
        "kunsea_dir = '/content/anuka/Tipo A_ Kunzea/'\n",
        "lepto_dir = '/content/anuka/Tipo B_ Lepto/'\n",
        "\n",
        "kunsea_data = os.listdir(kunsea_dir)\n",
        "print(len(kunsea_data))\n",
        "\n",
        "lepto_data = os.listdir(lepto_dir)\n",
        "print(len(lepto_data))"
      ],
      "metadata": {
        "colab": {
          "base_uri": "https://localhost:8080/"
        },
        "id": "DpqQ9UecrKdL",
        "outputId": "e67643ce-ca4c-4948-e00b-d42724977245"
      },
      "execution_count": 6,
      "outputs": [
        {
          "output_type": "stream",
          "name": "stdout",
          "text": [
            "1200\n",
            "1200\n"
          ]
        }
      ]
    },
    {
      "cell_type": "code",
      "source": [
        "data = []\n",
        "labels = []\n",
        "for img in kunsea_data:\n",
        "    try:\n",
        "        img_read = plt.imread(kunsea_dir + \"/\" + img)\n",
        "        #img_resize = cv2.resize(img_read, (50, 50))\n",
        "        img_array = img_to_array(img_read)\n",
        "        data.append(img_array)\n",
        "        labels.append(1)\n",
        "    except:\n",
        "        None\n",
        "        \n",
        "for img in lepto_data:\n",
        "    try:\n",
        "        img_read = plt.imread(lepto_data + \"/\" + img)\n",
        "        #img_resize = cv2.resize(img_read, (50, 50))\n",
        "        img_array = img_to_array(img_read)\n",
        "        data.append(img_array)\n",
        "        labels.append(0)\n",
        "    except:\n",
        "        None"
      ],
      "metadata": {
        "id": "IluveE4vrt7n"
      },
      "execution_count": 7,
      "outputs": []
    },
    {
      "cell_type": "code",
      "source": [
        "image_data = np.array(data)\n",
        "labels = np.array(labels)"
      ],
      "metadata": {
        "id": "YRU5Uyyqsunm"
      },
      "execution_count": 8,
      "outputs": []
    },
    {
      "cell_type": "code",
      "source": [
        "idx = np.arange(image_data.shape[0])\n",
        "np.random.shuffle(idx)\n",
        "image_data = image_data[idx]\n",
        "labels = labels[idx]"
      ],
      "metadata": {
        "id": "ktl9LPuCs8Hk"
      },
      "execution_count": 9,
      "outputs": []
    },
    {
      "cell_type": "code",
      "source": [
        "from sklearn.model_selection import train_test_split\n",
        "x_train, x_test, y_train, y_test = train_test_split(image_data, labels, test_size = 0.2, random_state = 101)"
      ],
      "metadata": {
        "id": "3BGIvG4rs_QN"
      },
      "execution_count": 10,
      "outputs": []
    },
    {
      "cell_type": "code",
      "source": [
        "y_train = np_utils.to_categorical(y_train, num_classes = 2)\n",
        "y_test = np_utils.to_categorical(y_test, num_classes = 2)"
      ],
      "metadata": {
        "id": "AKkOEuNftCVs"
      },
      "execution_count": 11,
      "outputs": []
    },
    {
      "cell_type": "code",
      "source": [
        "print(f'SHAPE OF TRAINING IMAGE DATA : {x_train.shape}')\n",
        "print(f'SHAPE OF TESTING IMAGE DATA : {x_test.shape}')\n",
        "print(f'SHAPE OF TRAINING LABELS : {y_train.shape}')\n",
        "print(f'SHAPE OF TESTING LABELS : {y_test.shape}')"
      ],
      "metadata": {
        "colab": {
          "base_uri": "https://localhost:8080/"
        },
        "id": "QXcNqJm9tFAd",
        "outputId": "7944d2c5-715d-4d6c-a55c-27714016dd56"
      },
      "execution_count": 12,
      "outputs": [
        {
          "output_type": "stream",
          "name": "stdout",
          "text": [
            "SHAPE OF TRAINING IMAGE DATA : (960, 100, 100, 1)\n",
            "SHAPE OF TESTING IMAGE DATA : (240, 100, 100, 1)\n",
            "SHAPE OF TRAINING LABELS : (960, 2)\n",
            "SHAPE OF TESTING LABELS : (240, 2)\n"
          ]
        }
      ]
    },
    {
      "cell_type": "markdown",
      "source": [
        "----- CNN ----- "
      ],
      "metadata": {
        "id": "LRoGo4wjtoq8"
      }
    },
    {
      "cell_type": "code",
      "source": [
        "import keras\n",
        "from keras.layers import Dense, Conv2D\n",
        "from keras.layers import Flatten\n",
        "from keras.layers import MaxPooling2D, GlobalAveragePooling2D\n",
        "from keras.layers import Activation\n",
        "from keras.layers import BatchNormalization\n",
        "from keras.layers import Dropout\n",
        "from keras.models import Sequential\n",
        "from keras import backend as K\n",
        "\n",
        "from keras import optimizers"
      ],
      "metadata": {
        "id": "YpjvywwLtsMM"
      },
      "execution_count": 13,
      "outputs": []
    },
    {
      "cell_type": "markdown",
      "source": [
        "CNN v1"
      ],
      "metadata": {
        "id": "cWnUQ-cLZG2X"
      }
    },
    {
      "cell_type": "code",
      "source": [
        "def BuildCNN1(height, width, classes, channels):\n",
        "    modelCNN1 = Sequential()\n",
        "    \n",
        "    inputShape = (height, width, channels)\n",
        "    chanDim = -1\n",
        "    \n",
        "    \n",
        "    modelCNN1.add(Conv2D(32, (3,3), activation = 'relu', input_shape = inputShape))\n",
        "    modelCNN1.add(MaxPooling2D(2,2))      \n",
        "\n",
        "    modelCNN1.add(Conv2D(32, (3,3), activation = 'relu'))\n",
        "    modelCNN1.add(MaxPooling2D(2,2))      \n",
        "\n",
        "    modelCNN1.add(Conv2D(32, (3,3), activation = 'relu'))\n",
        "    modelCNN1.add(MaxPooling2D(2,2))\n",
        "\n",
        "    modelCNN1.add(Flatten())\n",
        "    \n",
        "    modelCNN1.add(Dense(512, activation = 'relu'))\n",
        "    modelCNN1.add(Dense(classes, activation = 'softmax'))\n",
        "    \n",
        "    return modelCNN1"
      ],
      "metadata": {
        "id": "Ysc_HNFqZGAX"
      },
      "execution_count": 19,
      "outputs": []
    },
    {
      "cell_type": "markdown",
      "source": [
        "CNN v2"
      ],
      "metadata": {
        "id": "qZC9xARXZKUS"
      }
    },
    {
      "cell_type": "code",
      "source": [
        "def BuildCNN2(height, width, classes, channels):\n",
        "    modelCNN2 = Sequential()\n",
        "    \n",
        "    inputShape = (height, width, channels)\n",
        "    chanDim = -1    \n",
        "    \n",
        "    modelCNN2.add(Conv2D(32, (3,3), activation = 'relu', input_shape = inputShape))\n",
        "    modelCNN2.add(MaxPooling2D(2,2)) \n",
        "    modelCNN2.add(BatchNormalization(axis = chanDim))\n",
        "    modelCNN2.add(Dropout(0.2))\n",
        "\n",
        "    modelCNN2.add(Conv2D(32, (3,3), activation = 'relu'))\n",
        "    modelCNN2.add(MaxPooling2D(2,2))  \n",
        "    modelCNN2.add(BatchNormalization(axis = chanDim)) \n",
        "    modelCNN2.add(Dropout(0.2))\n",
        "\n",
        "    modelCNN2.add(Conv2D(32, (3,3), activation = 'relu'))\n",
        "    modelCNN2.add(MaxPooling2D(2,2)) \n",
        "    modelCNN2.add(BatchNormalization(axis = chanDim))\n",
        "    modelCNN2.add(Dropout(0.2))\n",
        "\n",
        "    modelCNN2.add(Flatten())\n",
        "    \n",
        "    modelCNN2.add(Dense(512, activation = 'relu'))  \n",
        "    modelCNN2.add(BatchNormalization(axis = chanDim))  \n",
        "    modelCNN2.add(Dropout(0.5))\n",
        "    modelCNN2.add(Dense(classes, activation = 'softmax'))\n",
        "    \n",
        "    return modelCNN2"
      ],
      "metadata": {
        "id": "8uQ-j9n_uwzT"
      },
      "execution_count": 15,
      "outputs": []
    },
    {
      "cell_type": "code",
      "source": [
        "#instantiate the model\n",
        "height = 100\n",
        "width = 100\n",
        "classes = 2\n",
        "channels = 1"
      ],
      "metadata": {
        "id": "bVGW4n-nu8kj"
      },
      "execution_count": 16,
      "outputs": []
    },
    {
      "cell_type": "code",
      "source": [
        "modelCNN1 = BuildCNN1(height = height, width = width, classes = classes, channels = channels)\n",
        "modelCNN1.summary()"
      ],
      "metadata": {
        "id": "wZU2SaJnbQxk",
        "outputId": "810db043-ab8f-4878-943c-c6a9c0d04a72",
        "colab": {
          "base_uri": "https://localhost:8080/"
        }
      },
      "execution_count": 20,
      "outputs": [
        {
          "output_type": "stream",
          "name": "stdout",
          "text": [
            "Model: \"sequential_2\"\n",
            "_________________________________________________________________\n",
            " Layer (type)                Output Shape              Param #   \n",
            "=================================================================\n",
            " conv2d_6 (Conv2D)           (None, 98, 98, 32)        320       \n",
            "                                                                 \n",
            " max_pooling2d_6 (MaxPooling  (None, 49, 49, 32)       0         \n",
            " 2D)                                                             \n",
            "                                                                 \n",
            " conv2d_7 (Conv2D)           (None, 47, 47, 32)        9248      \n",
            "                                                                 \n",
            " max_pooling2d_7 (MaxPooling  (None, 23, 23, 32)       0         \n",
            " 2D)                                                             \n",
            "                                                                 \n",
            " conv2d_8 (Conv2D)           (None, 21, 21, 32)        9248      \n",
            "                                                                 \n",
            " max_pooling2d_8 (MaxPooling  (None, 10, 10, 32)       0         \n",
            " 2D)                                                             \n",
            "                                                                 \n",
            " flatten_2 (Flatten)         (None, 3200)              0         \n",
            "                                                                 \n",
            " dense_4 (Dense)             (None, 512)               1638912   \n",
            "                                                                 \n",
            " dense_5 (Dense)             (None, 2)                 1026      \n",
            "                                                                 \n",
            "=================================================================\n",
            "Total params: 1,658,754\n",
            "Trainable params: 1,658,754\n",
            "Non-trainable params: 0\n",
            "_________________________________________________________________\n"
          ]
        }
      ]
    },
    {
      "cell_type": "code",
      "source": [
        "modelCNN2 = BuildCNN2(height = height, width = width, classes = classes, channels = channels)\n",
        "modelCNN2.summary()"
      ],
      "metadata": {
        "id": "h8_Br6l9bSPE",
        "outputId": "8cb0adbc-a34b-4f57-9119-22ffd75cf86a",
        "colab": {
          "base_uri": "https://localhost:8080/"
        }
      },
      "execution_count": 21,
      "outputs": [
        {
          "output_type": "stream",
          "name": "stdout",
          "text": [
            "Model: \"sequential_3\"\n",
            "_________________________________________________________________\n",
            " Layer (type)                Output Shape              Param #   \n",
            "=================================================================\n",
            " conv2d_9 (Conv2D)           (None, 98, 98, 32)        320       \n",
            "                                                                 \n",
            " max_pooling2d_9 (MaxPooling  (None, 49, 49, 32)       0         \n",
            " 2D)                                                             \n",
            "                                                                 \n",
            " batch_normalization_8 (Batc  (None, 49, 49, 32)       128       \n",
            " hNormalization)                                                 \n",
            "                                                                 \n",
            " dropout_4 (Dropout)         (None, 49, 49, 32)        0         \n",
            "                                                                 \n",
            " conv2d_10 (Conv2D)          (None, 47, 47, 32)        9248      \n",
            "                                                                 \n",
            " max_pooling2d_10 (MaxPoolin  (None, 23, 23, 32)       0         \n",
            " g2D)                                                            \n",
            "                                                                 \n",
            " batch_normalization_9 (Batc  (None, 23, 23, 32)       128       \n",
            " hNormalization)                                                 \n",
            "                                                                 \n",
            " dropout_5 (Dropout)         (None, 23, 23, 32)        0         \n",
            "                                                                 \n",
            " conv2d_11 (Conv2D)          (None, 21, 21, 32)        9248      \n",
            "                                                                 \n",
            " max_pooling2d_11 (MaxPoolin  (None, 10, 10, 32)       0         \n",
            " g2D)                                                            \n",
            "                                                                 \n",
            " batch_normalization_10 (Bat  (None, 10, 10, 32)       128       \n",
            " chNormalization)                                                \n",
            "                                                                 \n",
            " dropout_6 (Dropout)         (None, 10, 10, 32)        0         \n",
            "                                                                 \n",
            " flatten_3 (Flatten)         (None, 3200)              0         \n",
            "                                                                 \n",
            " dense_6 (Dense)             (None, 512)               1638912   \n",
            "                                                                 \n",
            " batch_normalization_11 (Bat  (None, 512)              2048      \n",
            " chNormalization)                                                \n",
            "                                                                 \n",
            " dropout_7 (Dropout)         (None, 512)               0         \n",
            "                                                                 \n",
            " dense_7 (Dense)             (None, 2)                 1026      \n",
            "                                                                 \n",
            "=================================================================\n",
            "Total params: 1,661,186\n",
            "Trainable params: 1,659,970\n",
            "Non-trainable params: 1,216\n",
            "_________________________________________________________________\n"
          ]
        }
      ]
    },
    {
      "cell_type": "code",
      "source": [
        "#compile the model\n",
        "modelCNN1.compile(loss = 'categorical_crossentropy', optimizer = 'Adam', metrics = ['accuracy'])\n",
        "modelCNN2.compile(loss = 'categorical_crossentropy', optimizer = 'Adam', metrics = ['accuracy'])"
      ],
      "metadata": {
        "id": "3KdARZ1vvLkL"
      },
      "execution_count": 22,
      "outputs": []
    },
    {
      "cell_type": "markdown",
      "source": [
        "Train CNN v1"
      ],
      "metadata": {
        "id": "OLGa7M4BaEa9"
      }
    },
    {
      "cell_type": "code",
      "source": [
        "def PlotCNN(history):\n",
        "  plt.figure(figsize = (18,8))\n",
        "  plt.plot(range(20), history.history['accuracy'], label = 'Training Accuracy')\n",
        "  plt.plot(range(20), history.history['loss'], label = 'Training Loss')\n",
        "  plt.xlabel(\"Number of Epoch's\")\n",
        "  plt.ylabel('Accuracy/Loss Value')\n",
        "  plt.title('Training Accuracy and Training Loss')\n",
        "  plt.legend(loc = \"best\")"
      ],
      "metadata": {
        "id": "XYT32AkyaMXx"
      },
      "execution_count": 23,
      "outputs": []
    },
    {
      "cell_type": "code",
      "source": [
        "def EvaluateCNN(model):\n",
        "  #evaluate the model on test data\n",
        "  predictionsCNN = model.evaluate(x_test, y_test)\n",
        "  print(f'LOSS : {predictionsCNN[0]}')\n",
        "  print(f'ACCURACY : {predictionsCNN[1]}')"
      ],
      "metadata": {
        "id": "UkTy6HPtaiIk"
      },
      "execution_count": 24,
      "outputs": []
    },
    {
      "cell_type": "code",
      "source": [
        "#fit the CNN 1\n",
        "historyCNN1  = modelCNN1.fit(x_train, y_train, epochs = 20, batch_size = 64)\n",
        "PlotCNN(historyCNN1)\n",
        "EvaluateCNN(modelCNN1)"
      ],
      "metadata": {
        "id": "uRRNENtwbB6U",
        "outputId": "4399dcb9-cac7-4737-efc3-ab4eee441fa7",
        "colab": {
          "base_uri": "https://localhost:8080/",
          "height": 1000
        }
      },
      "execution_count": 25,
      "outputs": [
        {
          "output_type": "stream",
          "name": "stdout",
          "text": [
            "Epoch 1/20\n",
            "15/15 [==============================] - 13s 18ms/step - loss: 0.0865 - accuracy: 0.9948\n",
            "Epoch 2/20\n",
            "15/15 [==============================] - 0s 17ms/step - loss: 0.0000e+00 - accuracy: 1.0000\n",
            "Epoch 3/20\n",
            "15/15 [==============================] - 0s 17ms/step - loss: 0.0000e+00 - accuracy: 1.0000\n",
            "Epoch 4/20\n",
            "15/15 [==============================] - 0s 18ms/step - loss: 0.0000e+00 - accuracy: 1.0000\n",
            "Epoch 5/20\n",
            "15/15 [==============================] - 0s 17ms/step - loss: 0.0000e+00 - accuracy: 1.0000\n",
            "Epoch 6/20\n",
            "15/15 [==============================] - 0s 18ms/step - loss: 0.0000e+00 - accuracy: 1.0000\n",
            "Epoch 7/20\n",
            "15/15 [==============================] - 0s 17ms/step - loss: 0.0000e+00 - accuracy: 1.0000\n",
            "Epoch 8/20\n",
            "15/15 [==============================] - 0s 17ms/step - loss: 0.0000e+00 - accuracy: 1.0000\n",
            "Epoch 9/20\n",
            "15/15 [==============================] - 0s 18ms/step - loss: 0.0000e+00 - accuracy: 1.0000\n",
            "Epoch 10/20\n",
            "15/15 [==============================] - 0s 17ms/step - loss: 0.0000e+00 - accuracy: 1.0000\n",
            "Epoch 11/20\n",
            "15/15 [==============================] - 0s 18ms/step - loss: 0.0000e+00 - accuracy: 1.0000\n",
            "Epoch 12/20\n",
            "15/15 [==============================] - 0s 18ms/step - loss: 0.0000e+00 - accuracy: 1.0000\n",
            "Epoch 13/20\n",
            "15/15 [==============================] - 0s 18ms/step - loss: 0.0000e+00 - accuracy: 1.0000\n",
            "Epoch 14/20\n",
            "15/15 [==============================] - 0s 18ms/step - loss: 0.0000e+00 - accuracy: 1.0000\n",
            "Epoch 15/20\n",
            "15/15 [==============================] - 0s 17ms/step - loss: 0.0000e+00 - accuracy: 1.0000\n",
            "Epoch 16/20\n",
            "15/15 [==============================] - 0s 17ms/step - loss: 0.0000e+00 - accuracy: 1.0000\n",
            "Epoch 17/20\n",
            "15/15 [==============================] - 0s 17ms/step - loss: 0.0000e+00 - accuracy: 1.0000\n",
            "Epoch 18/20\n",
            "15/15 [==============================] - 0s 18ms/step - loss: 0.0000e+00 - accuracy: 1.0000\n",
            "Epoch 19/20\n",
            "15/15 [==============================] - 0s 18ms/step - loss: 0.0000e+00 - accuracy: 1.0000\n",
            "Epoch 20/20\n",
            "15/15 [==============================] - 0s 18ms/step - loss: 0.0000e+00 - accuracy: 1.0000\n",
            "8/8 [==============================] - 0s 13ms/step - loss: 0.0000e+00 - accuracy: 1.0000\n",
            "LOSS : 0.0\n",
            "ACCURACY : 1.0\n"
          ]
        },
        {
          "output_type": "display_data",
          "data": {
            "text/plain": [
              "<Figure size 1296x576 with 1 Axes>"
            ],
            "image/png": "[encoded data removed]"
          },
          "metadata": {
            "needs_background": "light"
          }
        }
      ]
    },
    {
      "cell_type": "code",
      "source": [
        "#fit the CNN 2\n",
        "historyCNN2  = modelCNN2.fit(x_train, y_train, epochs = 20, batch_size = 64)\n",
        "PlotCNN(historyCNN2)\n",
        "EvaluateCNN(modelCNN2)"
      ],
      "metadata": {
        "colab": {
          "base_uri": "https://localhost:8080/",
          "height": 1000
        },
        "id": "4CX04Z23vTmr",
        "outputId": "292d6837-5b51-441c-c204-9ac6d6cb2543"
      },
      "execution_count": 26,
      "outputs": [
        {
          "output_type": "stream",
          "name": "stdout",
          "text": [
            "Epoch 1/20\n",
            "15/15 [==============================] - 2s 23ms/step - loss: 1.0974 - accuracy: 0.5677\n",
            "Epoch 2/20\n",
            "15/15 [==============================] - 0s 21ms/step - loss: 0.8186 - accuracy: 0.6354\n",
            "Epoch 3/20\n",
            "15/15 [==============================] - 0s 26ms/step - loss: 0.5522 - accuracy: 0.7365\n",
            "Epoch 4/20\n",
            "15/15 [==============================] - 1s 33ms/step - loss: 0.3886 - accuracy: 0.8188\n",
            "Epoch 5/20\n",
            "15/15 [==============================] - 0s 22ms/step - loss: 0.2748 - accuracy: 0.8938\n",
            "Epoch 6/20\n",
            "15/15 [==============================] - 0s 23ms/step - loss: 0.1765 - accuracy: 0.9521\n",
            "Epoch 7/20\n",
            "15/15 [==============================] - 0s 27ms/step - loss: 0.1229 - accuracy: 0.9750\n",
            "Epoch 8/20\n",
            "15/15 [==============================] - 0s 24ms/step - loss: 0.0954 - accuracy: 0.9823\n",
            "Epoch 9/20\n",
            "15/15 [==============================] - 0s 20ms/step - loss: 0.0625 - accuracy: 0.9958\n",
            "Epoch 10/20\n",
            "15/15 [==============================] - 0s 20ms/step - loss: 0.0495 - accuracy: 0.9958\n",
            "Epoch 11/20\n",
            "15/15 [==============================] - 0s 20ms/step - loss: 0.0334 - accuracy: 1.0000\n",
            "Epoch 12/20\n",
            "15/15 [==============================] - 0s 20ms/step - loss: 0.0284 - accuracy: 1.0000\n",
            "Epoch 13/20\n",
            "15/15 [==============================] - 0s 20ms/step - loss: 0.0253 - accuracy: 0.9979\n",
            "Epoch 14/20\n",
            "15/15 [==============================] - 0s 20ms/step - loss: 0.0193 - accuracy: 0.9990\n",
            "Epoch 15/20\n",
            "15/15 [==============================] - 0s 20ms/step - loss: 0.0154 - accuracy: 1.0000\n",
            "Epoch 16/20\n",
            "15/15 [==============================] - 0s 21ms/step - loss: 0.0117 - accuracy: 1.0000\n",
            "Epoch 17/20\n",
            "15/15 [==============================] - 0s 20ms/step - loss: 0.0103 - accuracy: 1.0000\n",
            "Epoch 18/20\n",
            "15/15 [==============================] - 0s 20ms/step - loss: 0.0084 - accuracy: 1.0000\n",
            "Epoch 19/20\n",
            "15/15 [==============================] - 0s 20ms/step - loss: 0.0086 - accuracy: 1.0000\n",
            "Epoch 20/20\n",
            "15/15 [==============================] - 0s 20ms/step - loss: 0.0070 - accuracy: 1.0000\n",
            "8/8 [==============================] - 0s 9ms/step - loss: 0.0201 - accuracy: 1.0000\n",
            "LOSS : 0.02014980837702751\n",
            "ACCURACY : 1.0\n"
          ]
        },
        {
          "output_type": "display_data",
          "data": {
            "text/plain": [
              "<Figure size 1296x576 with 1 Axes>"
            ],
            "image/png": "[encoded data removed]"
          },
          "metadata": {
            "needs_background": "light"
          }
        }
      ]
    },
    {
      "cell_type": "markdown",
      "source": [
        "\n",
        "\n",
        "---\n",
        "\n"
      ],
      "metadata": {
        "id": "pj7O-DJI4YuD"
      }
    },
    {
      "cell_type": "markdown",
      "source": [
        "------ VGG16 ------"
      ],
      "metadata": {
        "id": "T9CckK534UBk"
      }
    },
    {
      "cell_type": "markdown",
      "source": [
        "\n",
        "\n",
        "---\n",
        "\n"
      ],
      "metadata": {
        "id": "1esbHJr2Xu7q"
      }
    },
    {
      "cell_type": "code",
      "source": [
        "#Resize images to VGG16\n",
        "vgg16kunsea_dir = '/content/dataset_anuka_vgg16/Tipo A_ Kunzea'\n",
        "vgg16lepto_dir = '/content/dataset_anuka_vgg16/Tipo B_ Lepto'\n",
        "\n",
        "myListKunseaImages = os.listdir(kunsea_dir)\n",
        "myListLeptoImages = os.listdir(lepto_dir)\n",
        "\n",
        "def resizeAndSave(image_name, file_name, pathToSave):\n",
        "  img_size=(224,224)  \n",
        "  img = Image.open(file_name) \n",
        "  img = img.resize(img_size, Image.ANTIALIAS)  \n",
        "  img.save(pathToSave)\n",
        "  print(pathToSave)\n",
        "\n",
        "for cl in myListKunseaImages:\n",
        "  file_name = kunsea_dir + cl \n",
        "  pathToSave = os.path.join(vgg16kunsea_dir, cl)  \n",
        "  resizeAndSave(cl, file_name, pathToSave)\n",
        "\n",
        "for cl in myListLeptoImages:\n",
        "  file_name = lepto_dir + cl \n",
        "  pathToSave = os.path.join(vgg16lepto_dir, cl)  \n",
        "  resizeAndSave(cl, file_name, pathToSave)\n"
      ],
      "metadata": {
        "id": "O9q5hmKocJ2a"
      },
      "execution_count": null,
      "outputs": []
    },
    {
      "cell_type": "code",
      "source": [
        "#Split data\n",
        "!pip install split-folders"
      ],
      "metadata": {
        "id": "4IQGa0q_N_FU",
        "outputId": "ce949c51-1a8c-48ba-c5eb-052f6ec54b6c",
        "colab": {
          "base_uri": "https://localhost:8080/"
        }
      },
      "execution_count": 28,
      "outputs": [
        {
          "output_type": "stream",
          "name": "stdout",
          "text": [
            "Looking in indexes: https://pypi.org/simple, https://us-python.pkg.dev/colab-wheels/public/simple/\n",
            "Collecting split-folders\n",
            "  Downloading split_folders-0.5.1-py3-none-any.whl (8.4 kB)\n",
            "Installing collected packages: split-folders\n",
            "Successfully installed split-folders-0.5.1\n"
          ]
        }
      ]
    },
    {
      "cell_type": "code",
      "source": [
        "import splitfolders\n",
        "\n",
        "splitfolders.ratio('/content/dataset_anuka_vgg16', output='/content/dataset_vgg16',\n",
        "    seed=1337, ratio=(.8, .1, .1), group_prefix=None, move=False)"
      ],
      "metadata": {
        "id": "YB3JdoogOBmD",
        "outputId": "b96aae94-6bd5-41ac-ac7e-9f30fdad20e5",
        "colab": {
          "base_uri": "https://localhost:8080/"
        }
      },
      "execution_count": 29,
      "outputs": [
        {
          "output_type": "stream",
          "name": "stderr",
          "text": [
            "Copying files: 2400 files [00:00, 6449.04 files/s]\n"
          ]
        }
      ]
    },
    {
      "cell_type": "code",
      "source": [
        "from tensorflow.keras.optimizers import SGD\n",
        "from keras.callbacks import EarlyStopping\n",
        "from keras.callbacks import ReduceLROnPlateau\n",
        "from keras.applications.vgg16 import VGG16\n",
        "import tensorflow as tf"
      ],
      "metadata": {
        "id": "HczGhU8xE4TD"
      },
      "execution_count": 30,
      "outputs": []
    },
    {
      "cell_type": "code",
      "source": [
        "# define cnn model\n",
        "def BuildVGG16():\n",
        "  # load model\n",
        "  model = VGG16(include_top=False, input_shape=(224, 224, 3))\n",
        "  # mark loaded layers as not trainable\n",
        "  for layer in model.layers:\n",
        "    layer.trainable = False\n",
        "  \n",
        "  last_layer = model.get_layer('block5_pool')\n",
        "  last_output = last_layer.output\n",
        "  x = tf.keras.layers.GlobalMaxPooling2D()(last_output)\n",
        "  x = tf.keras.layers.Dense(512, activation='relu')(x)\n",
        "  x = tf.keras.layers.Dropout(0.5)(x)\n",
        "  x = tf.keras.layers.Dense(2, activation='softmax')(x) #2 clases de salida\n",
        "  model = tf.keras.Model(model.input, x)  \n",
        "\n",
        "  model.compile(optimizer='adam', loss='categorical_crossentropy', metrics=['accuracy'])\n",
        "\n",
        "  return model"
      ],
      "metadata": {
        "id": "-qG4uNO64X26"
      },
      "execution_count": 31,
      "outputs": []
    },
    {
      "cell_type": "code",
      "source": [
        "modelVGG16 = BuildVGG16()\n",
        "modelVGG16.summary()"
      ],
      "metadata": {
        "id": "PCsF9FKkE86q",
        "outputId": "bff7e902-f5c4-47c8-fd98-180b48621d0e",
        "colab": {
          "base_uri": "https://localhost:8080/"
        }
      },
      "execution_count": 32,
      "outputs": [
        {
          "output_type": "stream",
          "name": "stdout",
          "text": [
            "Downloading data from https://storage.googleapis.com/tensorflow/keras-applications/vgg16/vgg16_weights_tf_dim_ordering_tf_kernels_notop.h5\n",
            "58892288/58889256 [==============================] - 1s 0us/step\n",
            "58900480/58889256 [==============================] - 1s 0us/step\n",
            "Model: \"model\"\n",
            "_________________________________________________________________\n",
            " Layer (type)                Output Shape              Param #   \n",
            "=================================================================\n",
            " input_1 (InputLayer)        [(None, 224, 224, 3)]     0         \n",
            "                                                                 \n",
            " block1_conv1 (Conv2D)       (None, 224, 224, 64)      1792      \n",
            "                                                                 \n",
            " block1_conv2 (Conv2D)       (None, 224, 224, 64)      36928     \n",
            "                                                                 \n",
            " block1_pool (MaxPooling2D)  (None, 112, 112, 64)      0         \n",
            "                                                                 \n",
            " block2_conv1 (Conv2D)       (None, 112, 112, 128)     73856     \n",
            "                                                                 \n",
            " block2_conv2 (Conv2D)       (None, 112, 112, 128)     147584    \n",
            "                                                                 \n",
            " block2_pool (MaxPooling2D)  (None, 56, 56, 128)       0         \n",
            "                                                                 \n",
            " block3_conv1 (Conv2D)       (None, 56, 56, 256)       295168    \n",
            "                                                                 \n",
            " block3_conv2 (Conv2D)       (None, 56, 56, 256)       590080    \n",
            "                                                                 \n",
            " block3_conv3 (Conv2D)       (None, 56, 56, 256)       590080    \n",
            "                                                                 \n",
            " block3_pool (MaxPooling2D)  (None, 28, 28, 256)       0         \n",
            "                                                                 \n",
            " block4_conv1 (Conv2D)       (None, 28, 28, 512)       1180160   \n",
            "                                                                 \n",
            " block4_conv2 (Conv2D)       (None, 28, 28, 512)       2359808   \n",
            "                                                                 \n",
            " block4_conv3 (Conv2D)       (None, 28, 28, 512)       2359808   \n",
            "                                                                 \n",
            " block4_pool (MaxPooling2D)  (None, 14, 14, 512)       0         \n",
            "                                                                 \n",
            " block5_conv1 (Conv2D)       (None, 14, 14, 512)       2359808   \n",
            "                                                                 \n",
            " block5_conv2 (Conv2D)       (None, 14, 14, 512)       2359808   \n",
            "                                                                 \n",
            " block5_conv3 (Conv2D)       (None, 14, 14, 512)       2359808   \n",
            "                                                                 \n",
            " block5_pool (MaxPooling2D)  (None, 7, 7, 512)         0         \n",
            "                                                                 \n",
            " global_max_pooling2d (Globa  (None, 512)              0         \n",
            " lMaxPooling2D)                                                  \n",
            "                                                                 \n",
            " dense_8 (Dense)             (None, 512)               262656    \n",
            "                                                                 \n",
            " dropout_8 (Dropout)         (None, 512)               0         \n",
            "                                                                 \n",
            " dense_9 (Dense)             (None, 2)                 1026      \n",
            "                                                                 \n",
            "=================================================================\n",
            "Total params: 14,978,370\n",
            "Trainable params: 263,682\n",
            "Non-trainable params: 14,714,688\n",
            "_________________________________________________________________\n"
          ]
        }
      ]
    },
    {
      "cell_type": "code",
      "source": [
        "from keras.preprocessing.image import ImageDataGenerator\n",
        "\n",
        "EPOCHS = 20\n",
        "\n",
        "es = EarlyStopping(monitor='val_loss', patience=8, verbose=1, min_delta=1e-4)\n",
        "rlrop = ReduceLROnPlateau(monitor='val_loss', factor=0.1, patience=4, verbose=1, min_delta=1e-4)\n",
        "datagen = ImageDataGenerator(rescale=1./255)\n",
        "train_it = datagen.flow_from_directory('/content/dataset_vgg16/train', batch_size=64, target_size=(224, 224))\n",
        "validation_it = datagen.flow_from_directory('/content/dataset_vgg16/val', batch_size=64, target_size=(224, 224))\n",
        "test_it = datagen.flow_from_directory('/content/dataset_vgg16/test', batch_size=64, target_size=(224, 224))\n",
        "# fit model\n",
        "historyVGG16 = modelVGG16.fit(\n",
        "      train_it, \n",
        "      steps_per_epoch=len(train_it),\n",
        "      validation_data=validation_it, \n",
        "      validation_steps=len(validation_it), \n",
        "      epochs=EPOCHS, \n",
        "      verbose=1,\n",
        "      callbacks=[es])"
      ],
      "metadata": {
        "id": "mR8v845qFSG7",
        "outputId": "4f08a5bd-aea9-4831-a6e8-41ebcf2a2445",
        "colab": {
          "base_uri": "https://localhost:8080/"
        }
      },
      "execution_count": 33,
      "outputs": [
        {
          "output_type": "stream",
          "name": "stdout",
          "text": [
            "Found 1920 images belonging to 2 classes.\n",
            "Found 240 images belonging to 2 classes.\n",
            "Found 240 images belonging to 2 classes.\n",
            "Epoch 1/20\n",
            "30/30 [==============================] - 19s 456ms/step - loss: 0.6590 - accuracy: 0.7057 - val_loss: 0.3187 - val_accuracy: 0.8708\n",
            "Epoch 2/20\n",
            "30/30 [==============================] - 10s 327ms/step - loss: 0.3082 - accuracy: 0.8667 - val_loss: 0.2468 - val_accuracy: 0.8792\n",
            "Epoch 3/20\n",
            "30/30 [==============================] - 10s 331ms/step - loss: 0.2530 - accuracy: 0.9026 - val_loss: 0.2219 - val_accuracy: 0.8917\n",
            "Epoch 4/20\n",
            "30/30 [==============================] - 10s 334ms/step - loss: 0.2156 - accuracy: 0.9156 - val_loss: 0.2417 - val_accuracy: 0.8875\n",
            "Epoch 5/20\n",
            "30/30 [==============================] - 10s 338ms/step - loss: 0.2063 - accuracy: 0.9250 - val_loss: 0.1925 - val_accuracy: 0.9250\n",
            "Epoch 6/20\n",
            "30/30 [==============================] - 10s 340ms/step - loss: 0.1963 - accuracy: 0.9245 - val_loss: 0.1896 - val_accuracy: 0.9042\n",
            "Epoch 7/20\n",
            "30/30 [==============================] - 10s 334ms/step - loss: 0.1860 - accuracy: 0.9286 - val_loss: 0.1762 - val_accuracy: 0.9333\n",
            "Epoch 8/20\n",
            "30/30 [==============================] - 10s 332ms/step - loss: 0.1587 - accuracy: 0.9391 - val_loss: 0.1671 - val_accuracy: 0.9375\n",
            "Epoch 9/20\n",
            "30/30 [==============================] - 10s 333ms/step - loss: 0.1517 - accuracy: 0.9375 - val_loss: 0.1674 - val_accuracy: 0.9208\n",
            "Epoch 10/20\n",
            "30/30 [==============================] - 10s 331ms/step - loss: 0.1522 - accuracy: 0.9443 - val_loss: 0.1567 - val_accuracy: 0.9292\n",
            "Epoch 11/20\n",
            "30/30 [==============================] - 10s 330ms/step - loss: 0.1394 - accuracy: 0.9469 - val_loss: 0.1531 - val_accuracy: 0.9375\n",
            "Epoch 12/20\n",
            "30/30 [==============================] - 10s 333ms/step - loss: 0.1374 - accuracy: 0.9490 - val_loss: 0.1437 - val_accuracy: 0.9458\n",
            "Epoch 13/20\n",
            "30/30 [==============================] - 10s 333ms/step - loss: 0.1402 - accuracy: 0.9474 - val_loss: 0.1540 - val_accuracy: 0.9208\n",
            "Epoch 14/20\n",
            "30/30 [==============================] - 10s 334ms/step - loss: 0.1278 - accuracy: 0.9495 - val_loss: 0.1440 - val_accuracy: 0.9250\n",
            "Epoch 15/20\n",
            "30/30 [==============================] - 10s 333ms/step - loss: 0.1244 - accuracy: 0.9552 - val_loss: 0.1349 - val_accuracy: 0.9417\n",
            "Epoch 16/20\n",
            "30/30 [==============================] - 10s 333ms/step - loss: 0.1206 - accuracy: 0.9557 - val_loss: 0.1335 - val_accuracy: 0.9375\n",
            "Epoch 17/20\n",
            "30/30 [==============================] - 10s 333ms/step - loss: 0.1373 - accuracy: 0.9448 - val_loss: 0.1419 - val_accuracy: 0.9458\n",
            "Epoch 18/20\n",
            "30/30 [==============================] - 10s 332ms/step - loss: 0.1135 - accuracy: 0.9625 - val_loss: 0.1294 - val_accuracy: 0.9458\n",
            "Epoch 19/20\n",
            "30/30 [==============================] - 10s 332ms/step - loss: 0.1055 - accuracy: 0.9604 - val_loss: 0.1452 - val_accuracy: 0.9500\n",
            "Epoch 20/20\n",
            "30/30 [==============================] - 10s 332ms/step - loss: 0.0996 - accuracy: 0.9625 - val_loss: 0.1281 - val_accuracy: 0.9500\n"
          ]
        }
      ]
    },
    {
      "cell_type": "code",
      "source": [
        "import matplotlib.pyplot as plt\n",
        "\n",
        "loss, acc = modelVGG16.evaluate(test_it, steps=len(test_it), verbose=1)\n",
        "print('acc > %.3f' % (acc * 100.0))\n",
        "print(\"loss : \", loss)   \n",
        "\n",
        "\n",
        "plt.figure(figsize = (18,8))\n",
        "plt.plot(range(20), historyVGG16.history['accuracy'], label = 'Training Accuracy')\n",
        "plt.plot(range(20), historyVGG16.history['loss'], label = 'Training Loss')\n",
        "#ax1.set_xticks(np.arange(0, 31, 5))\n",
        "plt.xlabel(\"Number of Epoch's\")\n",
        "plt.ylabel('Accuracy/Loss Value')\n",
        "plt.title('Training Accuracy and Training Loss')\n",
        "plt.legend(loc = \"best\")"
      ],
      "metadata": {
        "id": "_0B0pipSGkg8",
        "outputId": "d140b550-6e47-4046-9e8c-043dbd35296e",
        "colab": {
          "base_uri": "https://localhost:8080/",
          "height": 582
        }
      },
      "execution_count": 34,
      "outputs": [
        {
          "output_type": "stream",
          "name": "stdout",
          "text": [
            "4/4 [==============================] - 1s 274ms/step - loss: 0.1384 - accuracy: 0.9375\n",
            "acc > 93.750\n",
            "loss :  0.13844840228557587\n"
          ]
        },
        {
          "output_type": "execute_result",
          "data": {
            "text/plain": [
              "<matplotlib.legend.Legend at 0x7fd62b1aac90>"
            ]
          },
          "metadata": {},
          "execution_count": 34
        },
        {
          "output_type": "display_data",
          "data": {
            "text/plain": [
              "<Figure size 1296x576 with 1 Axes>"
            ],
            "image/png": "[encoded data removed]"
          },
          "metadata": {
            "needs_background": "light"
          }
        }
      ]
    },
    {
      "cell_type": "code",
      "source": [
        "from tqdm import tqdm\n",
        "VGG16_test_path = '/content/dataset_vgg16/test/'\n",
        "\n",
        "def load_data(dir_path):\n",
        "    \"\"\"\n",
        "    Load resized images as np.arrays to workspace\n",
        "    \"\"\"\n",
        "    X = []\n",
        "    y = []\n",
        "    i = 0\n",
        "    labels = dict()\n",
        "    for path in tqdm(sorted(os.listdir(dir_path))):\n",
        "        if not path.startswith('.'):\n",
        "            labels[i] = path\n",
        "            for file in os.listdir(dir_path + path):\n",
        "                if not file.startswith('.'):\n",
        "                    img = cv2.imread(dir_path + path + '/' + file)\n",
        "                    X.append(img)\n",
        "                    y.append(i)\n",
        "            i += 1\n",
        "    X = np.array(X)\n",
        "    y = np.array(y)\n",
        "    print(f'{len(X)} images loaded from {dir_path} directory.')\n",
        "    return X, y, labels\n",
        "\n",
        "X_test_VGG16, y_test_VGG16, labels_VGG16 = load_data(VGG16_test_path)\n",
        "labels"
      ],
      "metadata": {
        "id": "0jJg0hllVQGK",
        "outputId": "b83cbf7b-d24e-476b-f415-c5564244f310",
        "colab": {
          "base_uri": "https://localhost:8080/"
        }
      },
      "execution_count": 41,
      "outputs": [
        {
          "output_type": "stream",
          "name": "stderr",
          "text": [
            "100%|██████████| 2/2 [00:00<00:00, 18.70it/s]"
          ]
        },
        {
          "output_type": "stream",
          "name": "stdout",
          "text": [
            "240 images loaded from /content/dataset_vgg16/test/ directory.\n"
          ]
        },
        {
          "output_type": "stream",
          "name": "stderr",
          "text": [
            "\n"
          ]
        },
        {
          "output_type": "execute_result",
          "data": {
            "text/plain": [
              "array([1, 1, 1, ..., 1, 1, 1])"
            ]
          },
          "metadata": {},
          "execution_count": 41
        }
      ]
    },
    {
      "cell_type": "code",
      "source": [
        "from matplotlib import pyplot\n",
        "import itertools\n",
        "def plot_confusion_matrix(cm, classes,\n",
        "                          normalize=False,\n",
        "                          title='Confusion matrix',\n",
        "                          cmap=pyplot.cm.Blues):\n",
        "    \"\"\"\n",
        "    This function prints and plots the confusion matrix.\n",
        "    Normalization can be applied by setting `normalize=True`.\n",
        "    \"\"\"\n",
        "    pyplot.figure(figsize = (6,6))\n",
        "    pyplot.imshow(cm, interpolation='nearest', cmap=cmap)\n",
        "    pyplot.title(title)\n",
        "    pyplot.colorbar()\n",
        "    tick_marks = np.arange(len(classes))\n",
        "    pyplot.xticks(tick_marks, classes, rotation=90)\n",
        "    pyplot.yticks(tick_marks, classes)\n",
        "    if normalize:\n",
        "        cm = cm.astype('float') / cm.sum(axis=1)[:, np.newaxis]\n",
        "\n",
        "    thresh = cm.max() / 2.\n",
        "    cm = np.round(cm,2)\n",
        "    for i, j in itertools.product(range(cm.shape[0]), range(cm.shape[1])):\n",
        "        pyplot.text(j, i, cm[i, j],\n",
        "                 horizontalalignment=\"center\",\n",
        "                 color=\"white\" if cm[i, j] > thresh else \"black\")\n",
        "    pyplot.tight_layout()\n",
        "    pyplot.ylabel('True label')\n",
        "    pyplot.xlabel('Predicted label')\n",
        "    pyplot.show()"
      ],
      "metadata": {
        "id": "vsrPxVxWW6VB"
      },
      "execution_count": 42,
      "outputs": []
    },
    {
      "cell_type": "code",
      "source": [
        "#CONFUSION MATRIX VGG16\n",
        "from sklearn.metrics import accuracy_score, confusion_matrix\n",
        "from sklearn.metrics import classification_report\n",
        "\n",
        "classes = ['Tipo A_ Kunzea', 'Tipo B_ Lepto']\n",
        "\n",
        "def validateResults(model):   \n",
        "  predictions = model.predict(X_test_VGG16, batch_size=32)\n",
        "  y_pred_VGG16 = np.argmax(predictions, axis=1) \n",
        "  y_true_VGG16 = np.argmax(y_test, axis=0)  \n",
        "  print(\"\\n\"+ classification_report(y_test_VGG16, y_pred_VGG16, target_names=classes))\n",
        "  print(confusion_matrix(y_test, y_pred_VGG16))\n",
        "  confusion_mtx = confusion_matrix(y_test, y_pred_VGG16)  \n",
        "  cm = plot_confusion_matrix(confusion_mtx, classes = list(labels_VGG16.items()), normalize=False)\n",
        "\n",
        "validateResults(modelVGG16)"
      ],
      "metadata": {
        "id": "cLttosutU7M7",
        "outputId": "d43f63f6-1b3f-4bde-92c6-49bb0ffbba09",
        "colab": {
          "base_uri": "https://localhost:8080/",
          "height": 519
        }
      },
      "execution_count": 44,
      "outputs": [
        {
          "output_type": "stream",
          "name": "stdout",
          "text": [
            "\n",
            "                precision    recall  f1-score   support\n",
            "\n",
            "Tipo A_ Kunzea       0.70      1.00      0.82       120\n",
            " Tipo B_ Lepto       1.00      0.57      0.73       120\n",
            "\n",
            "      accuracy                           0.79       240\n",
            "     macro avg       0.85      0.79      0.78       240\n",
            "  weighted avg       0.85      0.79      0.78       240\n",
            "\n"
          ]
        },
        {
          "output_type": "error",
          "ename": "ValueError",
          "evalue": "ignored",
          "traceback": [
            "\u001b[0;31m---------------------------------------------------------------------------\u001b[0m",
            "\u001b[0;31mValueError\u001b[0m                                Traceback (most recent call last)",
            "\u001b[0;32m<ipython-input-44-6b444f50684b>\u001b[0m in \u001b[0;36m<module>\u001b[0;34m\u001b[0m\n\u001b[1;32m     14\u001b[0m   \u001b[0mcm\u001b[0m \u001b[0;34m=\u001b[0m \u001b[0mplot_confusion_matrix\u001b[0m\u001b[0;34m(\u001b[0m\u001b[0mconfusion_mtx\u001b[0m\u001b[0;34m,\u001b[0m \u001b[0mclasses\u001b[0m \u001b[0;34m=\u001b[0m \u001b[0mlist\u001b[0m\u001b[0;34m(\u001b[0m\u001b[0mlabels_VGG16\u001b[0m\u001b[0;34m.\u001b[0m\u001b[0mitems\u001b[0m\u001b[0;34m(\u001b[0m\u001b[0;34m)\u001b[0m\u001b[0;34m)\u001b[0m\u001b[0;34m,\u001b[0m \u001b[0mnormalize\u001b[0m\u001b[0;34m=\u001b[0m\u001b[0;32mFalse\u001b[0m\u001b[0;34m)\u001b[0m\u001b[0;34m\u001b[0m\u001b[0;34m\u001b[0m\u001b[0m\n\u001b[1;32m     15\u001b[0m \u001b[0;34m\u001b[0m\u001b[0m\n\u001b[0;32m---> 16\u001b[0;31m \u001b[0mvalidateResults\u001b[0m\u001b[0;34m(\u001b[0m\u001b[0mmodelVGG16\u001b[0m\u001b[0;34m)\u001b[0m\u001b[0;34m\u001b[0m\u001b[0;34m\u001b[0m\u001b[0m\n\u001b[0m",
            "\u001b[0;32m<ipython-input-44-6b444f50684b>\u001b[0m in \u001b[0;36mvalidateResults\u001b[0;34m(model)\u001b[0m\n\u001b[1;32m     10\u001b[0m   \u001b[0my_true_VGG16\u001b[0m \u001b[0;34m=\u001b[0m \u001b[0mnp\u001b[0m\u001b[0;34m.\u001b[0m\u001b[0margmax\u001b[0m\u001b[0;34m(\u001b[0m\u001b[0my_test\u001b[0m\u001b[0;34m,\u001b[0m \u001b[0maxis\u001b[0m\u001b[0;34m=\u001b[0m\u001b[0;36m0\u001b[0m\u001b[0;34m)\u001b[0m\u001b[0;34m\u001b[0m\u001b[0;34m\u001b[0m\u001b[0m\n\u001b[1;32m     11\u001b[0m   \u001b[0mprint\u001b[0m\u001b[0;34m(\u001b[0m\u001b[0;34m\"\\n\"\u001b[0m\u001b[0;34m+\u001b[0m \u001b[0mclassification_report\u001b[0m\u001b[0;34m(\u001b[0m\u001b[0my_test_VGG16\u001b[0m\u001b[0;34m,\u001b[0m \u001b[0my_pred_VGG16\u001b[0m\u001b[0;34m,\u001b[0m \u001b[0mtarget_names\u001b[0m\u001b[0;34m=\u001b[0m\u001b[0mclasses\u001b[0m\u001b[0;34m)\u001b[0m\u001b[0;34m)\u001b[0m\u001b[0;34m\u001b[0m\u001b[0;34m\u001b[0m\u001b[0m\n\u001b[0;32m---> 12\u001b[0;31m   \u001b[0mprint\u001b[0m\u001b[0;34m(\u001b[0m\u001b[0mconfusion_matrix\u001b[0m\u001b[0;34m(\u001b[0m\u001b[0my_test\u001b[0m\u001b[0;34m,\u001b[0m \u001b[0my_pred_VGG16\u001b[0m\u001b[0;34m)\u001b[0m\u001b[0;34m)\u001b[0m\u001b[0;34m\u001b[0m\u001b[0;34m\u001b[0m\u001b[0m\n\u001b[0m\u001b[1;32m     13\u001b[0m   \u001b[0mconfusion_mtx\u001b[0m \u001b[0;34m=\u001b[0m \u001b[0mconfusion_matrix\u001b[0m\u001b[0;34m(\u001b[0m\u001b[0my_test\u001b[0m\u001b[0;34m,\u001b[0m \u001b[0my_pred_VGG16\u001b[0m\u001b[0;34m)\u001b[0m\u001b[0;34m\u001b[0m\u001b[0;34m\u001b[0m\u001b[0m\n\u001b[1;32m     14\u001b[0m   \u001b[0mcm\u001b[0m \u001b[0;34m=\u001b[0m \u001b[0mplot_confusion_matrix\u001b[0m\u001b[0;34m(\u001b[0m\u001b[0mconfusion_mtx\u001b[0m\u001b[0;34m,\u001b[0m \u001b[0mclasses\u001b[0m \u001b[0;34m=\u001b[0m \u001b[0mlist\u001b[0m\u001b[0;34m(\u001b[0m\u001b[0mlabels_VGG16\u001b[0m\u001b[0;34m.\u001b[0m\u001b[0mitems\u001b[0m\u001b[0;34m(\u001b[0m\u001b[0;34m)\u001b[0m\u001b[0;34m)\u001b[0m\u001b[0;34m,\u001b[0m \u001b[0mnormalize\u001b[0m\u001b[0;34m=\u001b[0m\u001b[0;32mFalse\u001b[0m\u001b[0;34m)\u001b[0m\u001b[0;34m\u001b[0m\u001b[0;34m\u001b[0m\u001b[0m\n",
            "\u001b[0;32m/usr/local/lib/python3.7/dist-packages/sklearn/metrics/_classification.py\u001b[0m in \u001b[0;36mconfusion_matrix\u001b[0;34m(y_true, y_pred, labels, sample_weight, normalize)\u001b[0m\n\u001b[1;32m    305\u001b[0m     \u001b[0;34m(\u001b[0m\u001b[0;36m0\u001b[0m\u001b[0;34m,\u001b[0m \u001b[0;36m2\u001b[0m\u001b[0;34m,\u001b[0m \u001b[0;36m1\u001b[0m\u001b[0;34m,\u001b[0m \u001b[0;36m1\u001b[0m\u001b[0;34m)\u001b[0m\u001b[0;34m\u001b[0m\u001b[0;34m\u001b[0m\u001b[0m\n\u001b[1;32m    306\u001b[0m     \"\"\"\n\u001b[0;32m--> 307\u001b[0;31m     \u001b[0my_type\u001b[0m\u001b[0;34m,\u001b[0m \u001b[0my_true\u001b[0m\u001b[0;34m,\u001b[0m \u001b[0my_pred\u001b[0m \u001b[0;34m=\u001b[0m \u001b[0m_check_targets\u001b[0m\u001b[0;34m(\u001b[0m\u001b[0my_true\u001b[0m\u001b[0;34m,\u001b[0m \u001b[0my_pred\u001b[0m\u001b[0;34m)\u001b[0m\u001b[0;34m\u001b[0m\u001b[0;34m\u001b[0m\u001b[0m\n\u001b[0m\u001b[1;32m    308\u001b[0m     \u001b[0;32mif\u001b[0m \u001b[0my_type\u001b[0m \u001b[0;32mnot\u001b[0m \u001b[0;32min\u001b[0m \u001b[0;34m(\u001b[0m\u001b[0;34m\"binary\"\u001b[0m\u001b[0;34m,\u001b[0m \u001b[0;34m\"multiclass\"\u001b[0m\u001b[0;34m)\u001b[0m\u001b[0;34m:\u001b[0m\u001b[0;34m\u001b[0m\u001b[0;34m\u001b[0m\u001b[0m\n\u001b[1;32m    309\u001b[0m         \u001b[0;32mraise\u001b[0m \u001b[0mValueError\u001b[0m\u001b[0;34m(\u001b[0m\u001b[0;34m\"%s is not supported\"\u001b[0m \u001b[0;34m%\u001b[0m \u001b[0my_type\u001b[0m\u001b[0;34m)\u001b[0m\u001b[0;34m\u001b[0m\u001b[0;34m\u001b[0m\u001b[0m\n",
            "\u001b[0;32m/usr/local/lib/python3.7/dist-packages/sklearn/metrics/_classification.py\u001b[0m in \u001b[0;36m_check_targets\u001b[0;34m(y_true, y_pred)\u001b[0m\n\u001b[1;32m     93\u001b[0m         raise ValueError(\n\u001b[1;32m     94\u001b[0m             \"Classification metrics can't handle a mix of {0} and {1} targets\".format(\n\u001b[0;32m---> 95\u001b[0;31m                 \u001b[0mtype_true\u001b[0m\u001b[0;34m,\u001b[0m \u001b[0mtype_pred\u001b[0m\u001b[0;34m\u001b[0m\u001b[0;34m\u001b[0m\u001b[0m\n\u001b[0m\u001b[1;32m     96\u001b[0m             )\n\u001b[1;32m     97\u001b[0m         )\n",
            "\u001b[0;31mValueError\u001b[0m: Classification metrics can't handle a mix of multilabel-indicator and binary targets"
          ]
        }
      ]
    },
    {
      "cell_type": "markdown",
      "source": [
        "\n",
        "\n",
        "---\n",
        "\n"
      ],
      "metadata": {
        "id": "o_a0gY1sU5yr"
      }
    },
    {
      "cell_type": "markdown",
      "source": [
        "GRAFICOS COMPARTIDOS"
      ],
      "metadata": {
        "id": "QQlCOQocU1O0"
      }
    },
    {
      "cell_type": "markdown",
      "source": [
        "\n",
        "\n",
        "---\n",
        "\n"
      ],
      "metadata": {
        "id": "mDGODytKXnzg"
      }
    },
    {
      "cell_type": "markdown",
      "source": [
        ""
      ],
      "metadata": {
        "id": "Qd4wBjGsXkA_"
      }
    },
    {
      "cell_type": "code",
      "source": [
        "#gráfico compartido accuracy\n",
        "plt.figure(figsize = (18,8))\n",
        "plt.plot(range(20), historyCNN1.history['accuracy'], label = 'CNN1')\n",
        "plt.plot(range(20), historyCNN2.history['accuracy'], label = 'CNN2')\n",
        "plt.plot(range(20), historyVGG16.history['accuracy'], label = 'VGG16')\n",
        "#ax1.set_xticks(np.arange(0, 31, 5))\n",
        "plt.xlabel(\"Number of Epoch's\")\n",
        "plt.ylabel('Accuracy')\n",
        "plt.title('Training Accuracy')\n",
        "plt.legend(loc = \"best\")"
      ],
      "metadata": {
        "id": "_X-XwxMSRR7i",
        "outputId": "628f0ea2-5440-41a6-c050-6ddb81f74784",
        "colab": {
          "base_uri": "https://localhost:8080/",
          "height": 530
        }
      },
      "execution_count": 40,
      "outputs": [
        {
          "output_type": "execute_result",
          "data": {
            "text/plain": [
              "<matplotlib.legend.Legend at 0x7fd61e699d50>"
            ]
          },
          "metadata": {},
          "execution_count": 40
        },
        {
          "output_type": "display_data",
          "data": {
            "text/plain": [
              "<Figure size 1296x576 with 1 Axes>"
            ],
            "image/png": "[encoded data removed]"
          },
          "metadata": {
            "needs_background": "light"
          }
        }
      ]
    },
    {
      "cell_type": "code",
      "source": [
        "#gráfico compartido loss\n",
        "plt.figure(figsize = (18,8))\n",
        "plt.plot(range(20), historyCNN1.history['loss'], label = 'CNN1')\n",
        "plt.plot(range(20), historyCNN2.history['loss'], label = 'CNN2')\n",
        "plt.plot(range(20), historyVGG16.history['loss'], label = 'VGG16')\n",
        "\n",
        "plt.xlabel(\"Number of Epoch's\")\n",
        "plt.ylabel('Loss')\n",
        "plt.title('Training Loss')\n",
        "plt.legend(loc = \"best\")"
      ],
      "metadata": {
        "id": "lgyBToN8RpUT",
        "outputId": "2d1ba6f7-4e7f-4842-afd3-7dc0b3ca9a8d",
        "colab": {
          "base_uri": "https://localhost:8080/",
          "height": 530
        }
      },
      "execution_count": 39,
      "outputs": [
        {
          "output_type": "execute_result",
          "data": {
            "text/plain": [
              "<matplotlib.legend.Legend at 0x7fd61f003f10>"
            ]
          },
          "metadata": {},
          "execution_count": 39
        },
        {
          "output_type": "display_data",
          "data": {
            "text/plain": [
              "<Figure size 1296x576 with 1 Axes>"
            ],
            "image/png": "[encoded data removed]"
          },
          "metadata": {
            "needs_background": "light"
          }
        }
      ]
    }
  ]
}